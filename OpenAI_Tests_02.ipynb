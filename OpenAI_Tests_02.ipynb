{
 "cells": [
  {
   "cell_type": "code",
   "execution_count": null,
   "id": "9967e22b",
   "metadata": {},
   "outputs": [
    {
     "name": "stdout",
     "output_type": "stream",
     "text": [
      "gpt-5-nano 2500tk 3s True\n"
     ]
    }
   ],
   "source": [
    "def generate_response(): None\n",
    "def divider(): None\n",
    "def get_global_settings_string(): None\n",
    "%run OpenAi.ipynb\n",
    "\n",
    "default_model = \"gpt-5-nano\"\n",
    "default_debug = True\n",
    "print(get_global_settings_string())\n"
   ]
  },
  {
   "cell_type": "code",
   "execution_count": 4,
   "id": "03868577",
   "metadata": {},
   "outputs": [
    {
     "name": "stdout",
     "output_type": "stream",
     "text": [
      "gpt-5-nano R 2500tk minimal default \n",
      "Prompt: Explain AI in one sentence.\n",
      "Usage: 12 + 41 = 53\n",
      "\n",
      "Basic Prompt\n",
      "Prompt: Explain AI in one sentence.\n",
      "Response: AI is the field of computing that designs systems to perceive, reason, learn, and act autonomously or semi-autonomously to solve complex tasks that typically require human intelligence.\n",
      "\n",
      "--------------------------------------------------\n"
     ]
    }
   ],
   "source": [
    "# Example: Basic prompt\n",
    "basic_prompt = \"Explain AI in one sentence.\"\n",
    "response = generate_response(basic_prompt)  \n",
    "print(\"Basic Prompt\")\n",
    "print(f\"Prompt: {basic_prompt}\\nResponse: {response}\\n\")\n",
    "divider()\n"
   ]
  },
  {
   "cell_type": "code",
   "execution_count": 5,
   "id": "76c9b09d",
   "metadata": {},
   "outputs": [
    {
     "name": "stdout",
     "output_type": "stream",
     "text": [
      "gpt-5-nano R 2500tk minimal default \n",
      "Prompt: Classify this sentiment: 'I love this product!'\n",
      "Usage: 17 + 7 = 24\n",
      "\n",
      "Zero-shot Prompt\n",
      "Prompt: Classify this sentiment: 'I love this product!'\n",
      "Response: Positive\n",
      "\n",
      "--------------------------------------------------\n"
     ]
    }
   ],
   "source": [
    "\n",
    "# Example: Zero-shot, few-shot, and CoT prompts\n",
    "zero_shot_prompt = \"Classify this sentiment: 'I love this product!'\"\n",
    "zero_response = generate_response(zero_shot_prompt)\n",
    "print(\"Zero-shot Prompt\")\n",
    "print(f\"Prompt: {zero_shot_prompt}\\nResponse: {zero_response}\\n\")\n",
    "divider()\n"
   ]
  },
  {
   "cell_type": "code",
   "execution_count": 6,
   "id": "80d9c9b9",
   "metadata": {},
   "outputs": [
    {
     "name": "stdout",
     "output_type": "stream",
     "text": [
      "gpt-5-nano R 2500tk minimal default \n",
      "Prompt:                  \n",
      "Example 1: Text: 'Great movie.' Sentiment: Positive.\n",
      "Example 2: Text: 'Terrible service.' Sentiment: Negative.\n",
      "Classify: 'Okay experience.'\n",
      "\n",
      "Usage: 45 + 8 = 53\n",
      "\n",
      "Few-shot Prompt\n",
      "Prompt: \n",
      "Example 1: Text: 'Great movie.' Sentiment: Positive.\n",
      "Example 2: Text: 'Terrible service.' Sentiment: Negative.\n",
      "Classify: 'Okay experience.'\n",
      "\n",
      "Response: Neutral.\n",
      "\n",
      "--------------------------------------------------\n"
     ]
    }
   ],
   "source": [
    "# Few-shot example\n",
    "few_shot_prompt = \"\"\"\n",
    "Example 1: Text: 'Great movie.' Sentiment: Positive.\n",
    "Example 2: Text: 'Terrible service.' Sentiment: Negative.\n",
    "Classify: 'Okay experience.'\n",
    "\"\"\"\n",
    "few_response = generate_response(few_shot_prompt)  # Now supported\n",
    "print(\"Few-shot Prompt\")\n",
    "print(f\"Prompt: {few_shot_prompt}\\nResponse: {few_response}\\n\")\n",
    "divider()\n"
   ]
  },
  {
   "cell_type": "code",
   "execution_count": 7,
   "id": "ec51b928",
   "metadata": {},
   "outputs": [
    {
     "name": "stdout",
     "output_type": "stream",
     "text": [
      "gpt-5-nano R 2500tk minimal default \n",
      "Prompt: Solve: What is 15% of 200? Think step by step.\n",
      "Usage: 22 + 53 = 75\n",
      "\n",
      "CoT Prompt\n",
      "Prompt: Solve: What is 15% of 200? Think step by step.\n",
      "Response: To find 15% of 200:\n",
      "\n",
      "- Convert the percentage to a decimal: 15% = 0.15\n",
      "- Multiply by 200: 200 × 0.15 = 30\n",
      "\n",
      "Answer: 30\n",
      "\n",
      "--------------------------------------------------\n"
     ]
    }
   ],
   "source": [
    "# Chain of Thought (CoT) example\n",
    "cot_prompt = \"Solve: What is 15% of 200? Think step by step.\"\n",
    "cot_response = generate_response(cot_prompt)\n",
    "print(\"CoT Prompt\")\n",
    "print(f\"Prompt: {cot_prompt}\\nResponse: {cot_response}\\n\")\n",
    "divider()\n"
   ]
  }
 ],
 "metadata": {
  "kernelspec": {
   "display_name": ".venv (3.13.1)",
   "language": "python",
   "name": "python3"
  },
  "language_info": {
   "codemirror_mode": {
    "name": "ipython",
    "version": 3
   },
   "file_extension": ".py",
   "mimetype": "text/x-python",
   "name": "python",
   "nbconvert_exporter": "python",
   "pygments_lexer": "ipython3",
   "version": "3.13.1"
  }
 },
 "nbformat": 4,
 "nbformat_minor": 5
}

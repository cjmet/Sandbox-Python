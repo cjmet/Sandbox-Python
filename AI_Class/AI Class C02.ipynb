{
 "cells": [
  {
   "cell_type": "code",
   "execution_count": 21,
   "id": "b3642840",
   "metadata": {},
   "outputs": [
    {
     "name": "stdout",
     "output_type": "stream",
     "text": [
      "Training set size: 120 samples\n",
      "Testing set size: 30 samples\n",
      "Model accuracy: 0.97\n",
      "Sample predictions:\n",
      "\n",
      "Sample 0: Predicted versicolor, Actual versicolor\n",
      "Probabilities:\n",
      "  setosa: 0.0246\n",
      "  versicolor: 0.7146\n",
      "  virginica: 0.2607\n",
      "\n",
      "Sample 1: Predicted setosa, Actual setosa\n",
      "Probabilities:\n",
      "  setosa: 0.9512\n",
      "  versicolor: 0.0485\n",
      "  virginica: 0.0003\n",
      "\n",
      "Sample 2: Predicted virginica, Actual virginica\n",
      "Probabilities:\n",
      "  setosa: 0.0004\n",
      "  versicolor: 0.0618\n",
      "  virginica: 0.9378\n",
      "\n",
      "Sample 3: Predicted versicolor, Actual versicolor\n",
      "Probabilities:\n",
      "  setosa: 0.0237\n",
      "  versicolor: 0.6855\n",
      "  virginica: 0.2909\n",
      "\n",
      "Sample 4: Predicted versicolor, Actual versicolor\n",
      "Probabilities:\n",
      "  setosa: 0.0221\n",
      "  versicolor: 0.7295\n",
      "  virginica: 0.2484\n",
      "\n"
     ]
    },
    {
     "name": "stderr",
     "output_type": "stream",
     "text": [
      "C:\\Users\\khaai\\AppData\\Roaming\\Python\\Python313\\site-packages\\sklearn\\neural_network\\_multilayer_perceptron.py:780: ConvergenceWarning: Stochastic Optimizer: Maximum iterations (1000) reached and the optimization hasn't converged yet.\n",
      "  warnings.warn(\n"
     ]
    }
   ],
   "source": [
    "from sklearn.datasets import load_iris\n",
    "from sklearn.model_selection import train_test_split\n",
    "from sklearn.neural_network import MLPClassifier\n",
    "from sklearn.metrics import accuracy_score\n",
    "\n",
    "# Load the iris dataset\n",
    "iris = load_iris()\n",
    "X = iris.data  # Features: sepal length, sepal width, petal length, petal width\n",
    "y = iris.target  # Labels: 0, 1, 2 for setosa, versicolor, virginica\n",
    "\n",
    "# Split data into training (80%) and testing (20%) sets\n",
    "X_train, X_test, y_train, y_test = train_test_split(X, y, test_size=0.2, random_state=42)\n",
    "\n",
    "# Display dataset sizes\n",
    "print(f\"Training set size: {X_train.shape[0]} samples\")\n",
    "print(f\"Testing set size: {X_test.shape[0]} samples\")\n",
    "\n",
    "# Create a neural network with one hidden layer of 10 neurons\n",
    "# Logistic, Tanh, and ReLU \n",
    "model = MLPClassifier(hidden_layer_sizes=(10,), activation='logistic', max_iter=1000, random_state=42)\n",
    "\n",
    "# Train the model on the training data\n",
    "model.fit(X_train, y_train)\n",
    "\n",
    "# Make predictions on the test data\n",
    "y_pred = model.predict(X_test)\n",
    "\n",
    "# Calculate and display accuracy\n",
    "accuracy = accuracy_score(y_test, y_pred)\n",
    "print(f\"Model accuracy: {accuracy:.2f}\")\n",
    "\n",
    "# Show a few predictions\n",
    "print(\"Sample predictions:\")\n",
    "print()\n",
    "for i in range(5):\n",
    "    print(f\"Sample {i}: Predicted {iris.target_names[y_pred[i]]}, Actual {iris.target_names[y_test[i]]}\")\n",
    "    probabilities = model.predict_proba(X_test[[i]])\n",
    "    print(f\"Probabilities:\")\n",
    "    for j, prob in enumerate(probabilities[0]):\n",
    "        print(f\"  {iris.target_names[j]}: {prob:.4f}\")\n",
    "    print()\n",
    "\n",
    "\n"
   ]
  }
 ],
 "metadata": {
  "kernelspec": {
   "display_name": "Python 3",
   "language": "python",
   "name": "python3"
  },
  "language_info": {
   "codemirror_mode": {
    "name": "ipython",
    "version": 3
   },
   "file_extension": ".py",
   "mimetype": "text/x-python",
   "name": "python",
   "nbconvert_exporter": "python",
   "pygments_lexer": "ipython3",
   "version": "3.13.1"
  }
 },
 "nbformat": 4,
 "nbformat_minor": 5
}

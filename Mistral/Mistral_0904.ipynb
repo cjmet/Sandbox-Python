{
 "cells": [
  {
   "cell_type": "code",
   "execution_count": 1,
   "id": "f793ad9c",
   "metadata": {},
   "outputs": [],
   "source": [
    "import time\n",
    "import datetime\n",
    "\n",
    "def rate_limit(start_time, seconds=3):\n",
    "    now = datetime.datetime.now()\n",
    "    delta = (now - start_time).total_seconds()\n",
    "    if delta < seconds:\n",
    "        time.sleep(seconds - delta)"
   ]
  },
  {
   "cell_type": "code",
   "execution_count": null,
   "id": "c598c0bf",
   "metadata": {},
   "outputs": [
    {
     "name": "stdout",
     "output_type": "stream",
     "text": [
      "The day that comes after Friday is Saturday.\n"
     ]
    }
   ],
   "source": [
    "##  pip install -U langchain langchain-community langchain-chroma langchain-mistralai chromadb\n",
    "# # pip install python-dotenv  # if using .env file for environment variables\n",
    "# # mistral_api_key = os.getenv(\"MISTRAL_API_KEY\", \"USE YOUR KEY\")\n",
    "## os.environ[\"MISTRAL_API_KEY\"] = mistral_api_key # make it visible to the SDK\n",
    "\n",
    "import os\n",
    "from time import sleep\n",
    "\n",
    "mistral_api_key = os.getenv(\"MISTRAL_API_KEY\")\n",
    "if not mistral_api_key:\n",
    "    raise ValueError(\"MISTRAL_API_KEY environment variable is not set. Please set it to your API key.\")\n",
    "\n",
    "# Cell 2 — model (no api_key arg needed)\n",
    "from langchain_mistralai import ChatMistralAI\n",
    "from langchain_core.messages import HumanMessage, SystemMessage\n",
    "\n",
    "chat = ChatMistralAI(model=\"mistral-small-latest\", temperature=0.7)\n",
    "# Cell 3 — call\n",
    "now = datetime.datetime.now()\n",
    "resp = chat.invoke([\n",
    " SystemMessage(content=\"You are a helpful assistant.\"),\n",
    " HumanMessage(content=\"What day comes after Friday?\")\n",
    "])\n",
    "rate_limit(now)  # to avoid rate limit errors\n",
    "print(resp.content)\n"
   ]
  },
  {
   "cell_type": "code",
   "execution_count": null,
   "id": "22a5f0a5",
   "metadata": {},
   "outputs": [
    {
     "name": "stdout",
     "output_type": "stream",
     "text": [
      "Visit the Promenade des Anglais and explore the old town's vibrant markets.\n"
     ]
    }
   ],
   "source": [
    "from langchain_core.messages import SystemMessage, HumanMessage, AIMessage\n",
    "\n",
    "now = datetime.datetime.now()\n",
    "resp = chat.invoke([\n",
    "    SystemMessage(content=\"You are a nice AI bot that helps a user figure out where to travel in one short sentence\"),\n",
    "    HumanMessage(content=\"I like the beaches where should I go?\"),\n",
    "    AIMessage(content=\"You should go to Nice, France\"),\n",
    "    HumanMessage(content=\"What else should I do when I'm there?\")\n",
    "])\n",
    "rate_limit(now)  # to avoid rate limit errors\n",
    "print(resp.content)"
   ]
  }
 ],
 "metadata": {
  "kernelspec": {
   "display_name": ".venv (3.13.1)",
   "language": "python",
   "name": "python3"
  },
  "language_info": {
   "codemirror_mode": {
    "name": "ipython",
    "version": 3
   },
   "file_extension": ".py",
   "mimetype": "text/x-python",
   "name": "python",
   "nbconvert_exporter": "python",
   "pygments_lexer": "ipython3",
   "version": "3.13.1"
  }
 },
 "nbformat": 4,
 "nbformat_minor": 5
}

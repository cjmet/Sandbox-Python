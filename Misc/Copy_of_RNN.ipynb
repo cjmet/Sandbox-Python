{
 "cells": [
  {
   "cell_type": "markdown",
   "metadata": {},
   "source": [
    "# Cuda\n",
    "- Cuda 13 is not supported.  \n",
    "- Cuda 12.6 is the current supported version\n",
    "    - I installed the windows exe version of the tools, that might not be necessary as it seems the wheel install below also installs it? maybe?\n",
    "    - https://pytorch.org/\n",
    "    - https://docs.nvidia.com/cuda/cuda-installation-guide-microsoft-windows/index.html#pip-wheels\n",
    "    - https://stackoverflow.com/questions/78024121/cannot-convince-pytorch-to-install-with-cuda-windows-11\n",
    "\n",
    "- **must use a .venv**\n",
    "- must uninstall non-cuda torch versions\n",
    "    - pip uninstall torch torchvision\n",
    "- must use the following syntax\n",
    "    - pip install torch torchvision --index-url https://download.pytorch.org/whl/cu126\n",
    "\n",
    "Inside the .venv\n",
    "- python3 -m pip install --upgrade setuptools pip wheel\n",
    "- pip install nvidia-pyindex\n",
    "- pip install nvidia-cuda-runtime-cu12  (Optional?  This might be optional?)\n",
    "- pip install torch torchvision --index-url https://download.pytorch.org/whl/cu126\n",
    "- reboot\n"
   ]
  },
  {
   "cell_type": "code",
   "execution_count": 32,
   "metadata": {},
   "outputs": [
    {
     "data": {
      "text/plain": [
       "True"
      ]
     },
     "execution_count": 32,
     "metadata": {},
     "output_type": "execute_result"
    }
   ],
   "source": [
    "import torch\n",
    "torch.cuda.is_available()"
   ]
  },
  {
   "cell_type": "code",
   "execution_count": 33,
   "metadata": {},
   "outputs": [
    {
     "data": {
      "text/plain": [
       "['sm_61', 'sm_70', 'sm_75', 'sm_80', 'sm_86', 'sm_90']"
      ]
     },
     "execution_count": 33,
     "metadata": {},
     "output_type": "execute_result"
    }
   ],
   "source": [
    "torch.cuda.get_arch_list()"
   ]
  },
  {
   "cell_type": "code",
   "execution_count": 34,
   "metadata": {
    "id": "UgUYjGDNS86r"
   },
   "outputs": [],
   "source": [
    "import nltk\n",
    "from nltk.corpus import stopwords\n",
    "from nltk.tokenize import word_tokenize\n",
    "from nltk.stem import WordNetLemmatizer  # Import to fix NameError\n",
    "import re\n",
    "import pandas as pd\n",
    "from sklearn.metrics import accuracy_score\n",
    "from torch.nn.utils.rnn import pad_sequence\n",
    "import torch\n",
    "import torch.nn as nn\n",
    "import torch.optim as optim\n",
    "from torch.utils.data import DataLoader, TensorDataset\n",
    "\n",
    "import matplotlib\n",
    "import time\n",
    "import datetime"
   ]
  },
  {
   "cell_type": "code",
   "execution_count": 35,
   "metadata": {
    "colab": {
     "base_uri": "https://localhost:8080/"
    },
    "id": "dpPcmPrSVxTB",
    "outputId": "bca5f11a-ec85-498c-f0c2-9d10d2724b55"
   },
   "outputs": [
    {
     "name": "stderr",
     "output_type": "stream",
     "text": [
      "[nltk_data] Downloading package punkt to\n",
      "[nltk_data]     C:\\Users\\khaai\\AppData\\Roaming\\nltk_data...\n",
      "[nltk_data]   Package punkt is already up-to-date!\n",
      "[nltk_data] Downloading package punkt_tab to\n",
      "[nltk_data]     C:\\Users\\khaai\\AppData\\Roaming\\nltk_data...\n",
      "[nltk_data]   Package punkt_tab is already up-to-date!\n",
      "[nltk_data] Downloading package stopwords to\n",
      "[nltk_data]     C:\\Users\\khaai\\AppData\\Roaming\\nltk_data...\n",
      "[nltk_data]   Package stopwords is already up-to-date!\n",
      "[nltk_data] Downloading package wordnet to\n",
      "[nltk_data]     C:\\Users\\khaai\\AppData\\Roaming\\nltk_data...\n",
      "[nltk_data]   Package wordnet is already up-to-date!\n"
     ]
    },
    {
     "data": {
      "text/plain": [
       "True"
      ]
     },
     "execution_count": 35,
     "metadata": {},
     "output_type": "execute_result"
    }
   ],
   "source": [
    "# Download required NLTK resources\n",
    "nltk.download('punkt')        # General tokenizer (for compatibility)\n",
    "nltk.download('punkt_tab')    # Specific English tokenizer (fixes LookupError)\n",
    "nltk.download('stopwords')    # Stop words for filtering common words\n",
    "nltk.download('wordnet')      # Lemmatizer resource"
   ]
  },
  {
   "cell_type": "code",
   "execution_count": 36,
   "metadata": {
    "id": "FhlsXQPJV0fT"
   },
   "outputs": [],
   "source": [
    "# Initialize stop words and lemmatizer\n",
    "stop_words = set(stopwords.words('english'))\n",
    "lemmatizer = WordNetLemmatizer()"
   ]
  },
  {
   "cell_type": "code",
   "execution_count": 37,
   "metadata": {
    "colab": {
     "base_uri": "https://localhost:8080/"
    },
    "id": "f40DS0PCUWWI",
    "outputId": "2c588bc7-bc9e-4699-acbe-5a6cd65aedda"
   },
   "outputs": [
    {
     "data": {
      "text/plain": [
       "device(type='cuda')"
      ]
     },
     "execution_count": 37,
     "metadata": {},
     "output_type": "execute_result"
    }
   ],
   "source": [
    "device = torch.device(\"cuda\" if torch.cuda.is_available() else \"cpu\")\n",
    "device"
   ]
  },
  {
   "cell_type": "code",
   "execution_count": 38,
   "metadata": {
    "id": "UsriKZ03Ueiu"
   },
   "outputs": [],
   "source": [
    "train = pd.read_csv('train.csv')\n",
    "validation = pd.read_csv('validation.csv')\n",
    "test = pd.read_csv('test.csv')"
   ]
  },
  {
   "cell_type": "code",
   "execution_count": 39,
   "metadata": {
    "colab": {
     "base_uri": "https://localhost:8080/"
    },
    "id": "AWuxnVJ9odvo",
    "outputId": "226a3de6-c703-497d-f7ad-3f82d956e395"
   },
   "outputs": [],
   "source": [
    "## from google.colab import drive\n",
    "## drive.mount('/content/drive')"
   ]
  },
  {
   "cell_type": "code",
   "execution_count": 40,
   "metadata": {
    "colab": {
     "base_uri": "https://localhost:8080/"
    },
    "id": "aINB51TDUohA",
    "outputId": "6074f024-f6e1-4cd4-e226-477b3bd9dacd"
   },
   "outputs": [
    {
     "data": {
      "text/plain": [
       "((17877, 5), (3831, 5), (3831, 5))"
      ]
     },
     "execution_count": 40,
     "metadata": {},
     "output_type": "execute_result"
    }
   ],
   "source": [
    "train.shape, validation.shape, test.shape"
   ]
  },
  {
   "cell_type": "code",
   "execution_count": 41,
   "metadata": {
    "id": "6dQkxdkAUXp7"
   },
   "outputs": [
    {
     "name": "stderr",
     "output_type": "stream",
     "text": [
      "<>:9: SyntaxWarning: invalid escape sequence '\\s'\n",
      "<>:9: SyntaxWarning: invalid escape sequence '\\s'\n",
      "C:\\Users\\khaai\\AppData\\Local\\Temp\\ipykernel_22808\\599956801.py:9: SyntaxWarning: invalid escape sequence '\\s'\n",
      "  pattern = f\"[a-zA-Z\\s]\"\n"
     ]
    }
   ],
   "source": [
    "import re\n",
    "\n",
    "def preprocess_text(text):\n",
    "    # Check if the text is a string\n",
    "    if not isinstance(text, str):\n",
    "        return []\n",
    "\n",
    "    # Keep only letters and whitespaces\n",
    "    pattern = f\"[a-zA-Z\\s]\"\n",
    "    text = ''.join(re.findall(pattern, text))\n",
    "\n",
    "    # Convert to lowercase\n",
    "    text = text.lower()\n",
    "\n",
    "    # Tokenize the text\n",
    "    tokens = nltk.word_tokenize(text)\n",
    "#     tokens = ' '.join(tokens)\n",
    "\n",
    "    return tokens"
   ]
  },
  {
   "cell_type": "code",
   "execution_count": 42,
   "metadata": {
    "id": "de7fAX80UvkE"
   },
   "outputs": [],
   "source": [
    "#apply the preprocess text to\n",
    "train['user_review'] = train['user_review'].apply(preprocess_text)\n",
    "validation['user_review'] = validation['user_review'].apply(preprocess_text)\n",
    "test['user_review'] = test['user_review'].apply(preprocess_text)"
   ]
  },
  {
   "cell_type": "code",
   "execution_count": 43,
   "metadata": {
    "colab": {
     "base_uri": "https://localhost:8080/",
     "height": 206
    },
    "id": "P8PS5yQsW033",
    "outputId": "40fb4f52-8071-4881-e88d-6340fbf8aaef"
   },
   "outputs": [
    {
     "data": {
      "text/html": [
       "<div>\n",
       "<style scoped>\n",
       "    .dataframe tbody tr th:only-of-type {\n",
       "        vertical-align: middle;\n",
       "    }\n",
       "\n",
       "    .dataframe tbody tr th {\n",
       "        vertical-align: top;\n",
       "    }\n",
       "\n",
       "    .dataframe thead th {\n",
       "        text-align: right;\n",
       "    }\n",
       "</style>\n",
       "<table border=\"1\" class=\"dataframe\">\n",
       "  <thead>\n",
       "    <tr style=\"text-align: right;\">\n",
       "      <th></th>\n",
       "      <th>review_id</th>\n",
       "      <th>title</th>\n",
       "      <th>year</th>\n",
       "      <th>user_review</th>\n",
       "      <th>user_suggestion</th>\n",
       "    </tr>\n",
       "  </thead>\n",
       "  <tbody>\n",
       "    <tr>\n",
       "      <th>0</th>\n",
       "      <td>460</td>\n",
       "      <td>Black Squad</td>\n",
       "      <td>2018.0</td>\n",
       "      <td>[early, access, reviewvery, great, shooter, th...</td>\n",
       "      <td>1</td>\n",
       "    </tr>\n",
       "    <tr>\n",
       "      <th>1</th>\n",
       "      <td>2166</td>\n",
       "      <td>Tree of Savior (English Ver.)</td>\n",
       "      <td>2016.0</td>\n",
       "      <td>[i, love, love, love, playing, this, gamesuper...</td>\n",
       "      <td>1</td>\n",
       "    </tr>\n",
       "    <tr>\n",
       "      <th>2</th>\n",
       "      <td>17242</td>\n",
       "      <td>Eternal Card Game</td>\n",
       "      <td>2016.0</td>\n",
       "      <td>[early, access, reviewas, a, fan, of, mtg, and...</td>\n",
       "      <td>1</td>\n",
       "    </tr>\n",
       "    <tr>\n",
       "      <th>3</th>\n",
       "      <td>6959</td>\n",
       "      <td>Tactical Monsters Rumble Arena</td>\n",
       "      <td>2018.0</td>\n",
       "      <td>[turn, based, strategy, game, similiar, to, ff...</td>\n",
       "      <td>1</td>\n",
       "    </tr>\n",
       "    <tr>\n",
       "      <th>4</th>\n",
       "      <td>8807</td>\n",
       "      <td>Yu-Gi-Oh! Duel Links</td>\n",
       "      <td>2017.0</td>\n",
       "      <td>[this, game, has, an, insanely, huge, download...</td>\n",
       "      <td>0</td>\n",
       "    </tr>\n",
       "  </tbody>\n",
       "</table>\n",
       "</div>"
      ],
      "text/plain": [
       "   review_id                           title    year  \\\n",
       "0        460                     Black Squad  2018.0   \n",
       "1       2166   Tree of Savior (English Ver.)  2016.0   \n",
       "2      17242               Eternal Card Game  2016.0   \n",
       "3       6959  Tactical Monsters Rumble Arena  2018.0   \n",
       "4       8807            Yu-Gi-Oh! Duel Links  2017.0   \n",
       "\n",
       "                                         user_review  user_suggestion  \n",
       "0  [early, access, reviewvery, great, shooter, th...                1  \n",
       "1  [i, love, love, love, playing, this, gamesuper...                1  \n",
       "2  [early, access, reviewas, a, fan, of, mtg, and...                1  \n",
       "3  [turn, based, strategy, game, similiar, to, ff...                1  \n",
       "4  [this, game, has, an, insanely, huge, download...                0  "
      ]
     },
     "execution_count": 43,
     "metadata": {},
     "output_type": "execute_result"
    }
   ],
   "source": [
    "train.head()"
   ]
  },
  {
   "cell_type": "code",
   "execution_count": 44,
   "metadata": {
    "id": "WkL7TU_3W7cR"
   },
   "outputs": [],
   "source": [
    "def build_vocabulary(reviews):\n",
    "    vocab = {}\n",
    "    index = 1  # Start indexing from 1; reserve 0 for padding\n",
    "    for review in reviews:\n",
    "        for word in review:\n",
    "            if word not in vocab:\n",
    "                vocab[word] = index\n",
    "                index += 1\n",
    "    return vocab"
   ]
  },
  {
   "cell_type": "code",
   "execution_count": 45,
   "metadata": {
    "colab": {
     "base_uri": "https://localhost:8080/"
    },
    "id": "0PhYwRfRW-gQ",
    "outputId": "3b9e936a-d3eb-4dc5-fdf3-687f1bf7d27b"
   },
   "outputs": [
    {
     "name": "stdout",
     "output_type": "stream",
     "text": [
      "Vocabulary Length: 104326\n",
      "early: 1\n",
      "access: 2\n",
      "reviewvery: 3\n",
      "great: 4\n",
      "shooter: 5\n",
      "that: 6\n",
      "have: 7\n",
      "originality: 8\n",
      "in: 9\n",
      "it: 10\n",
      "but: 11\n",
      "of: 12\n",
      "course: 13\n",
      "some: 14\n",
      "newbies: 15\n",
      "dont: 16\n",
      "understand: 17\n",
      "mechanic: 18\n",
      "shooting: 19\n",
      "which: 20\n",
      "guns: 21\n",
      "is: 22\n",
      "same: 23\n",
      "or: 24\n",
      "not: 25\n",
      "throught: 26\n",
      "visual: 27\n",
      "look: 28\n",
      "and: 29\n",
      "what: 30\n",
      "to: 31\n",
      "do: 32\n",
      "rankedbut: 33\n",
      "theres: 34\n",
      "thing: 35\n",
      "keeps: 36\n",
      "me: 37\n",
      "think: 38\n",
      "how: 39\n",
      "would: 40\n",
      "game: 41\n",
      "evolve: 42\n",
      "sure: 43\n",
      "its: 44\n",
      "still: 45\n",
      "i: 46\n",
      "developers: 47\n",
      "need: 48\n",
      "speed: 49\n",
      "up: 50\n"
     ]
    }
   ],
   "source": [
    "# Concatenate all reviews to build the vocabulary\n",
    "all_reviews = train['user_review'].tolist() + validation['user_review'].tolist() + test['user_review'].tolist()\n",
    "vocab = build_vocabulary(all_reviews)\n",
    "print(\"Vocabulary Length:\", len(vocab))\n",
    "first_50 = list(vocab.items())[:50]\n",
    "for key, value in first_50:\n",
    "    print(f'{key}: {value}')"
   ]
  },
  {
   "cell_type": "code",
   "execution_count": 46,
   "metadata": {
    "id": "zBzhqAmDXD5U"
   },
   "outputs": [],
   "source": [
    "#Indexing reviews based on the vocabulary\n",
    "def index_and_pad_reviews(reviews, vocab, max_length=100):\n",
    "    \"\"\"Index and pad tokenized reviews to a fixed length.\"\"\"\n",
    "    indexed_reviews = []\n",
    "    for review in reviews:\n",
    "        indexed_review = [vocab.get(word, 0) for word in review]  # Use vocab.get to handle unknown words\n",
    "        # Truncate if review length exceeds max_length\n",
    "        truncated_review = indexed_review[:max_length]\n",
    "        # Pad review with zeros if it's shorter than max_length\n",
    "        padded_review = truncated_review + [0] * (max_length - len(truncated_review))\n",
    "        indexed_reviews.append(padded_review)\n",
    "    return indexed_reviews"
   ]
  },
  {
   "cell_type": "code",
   "execution_count": 47,
   "metadata": {
    "id": "5wg7TLxGXIrB"
   },
   "outputs": [],
   "source": [
    "#converting dataframe to list\n",
    "train_review = train['user_review'].tolist()\n",
    "test_review = test['user_review'].tolist()\n",
    "validation_review = validation['user_review'].tolist()"
   ]
  },
  {
   "cell_type": "code",
   "execution_count": 48,
   "metadata": {
    "id": "imWO6F_XXMEo"
   },
   "outputs": [],
   "source": [
    "# Index and pad reviews for each set\n",
    "train_indexed = index_and_pad_reviews(train_review, vocab)\n",
    "test_indexed = index_and_pad_reviews(test_review, vocab)\n",
    "validation_indexed = index_and_pad_reviews(validation_review, vocab)"
   ]
  },
  {
   "cell_type": "code",
   "execution_count": 49,
   "metadata": {
    "id": "spzbrM-0XObZ"
   },
   "outputs": [],
   "source": [
    "# Convert indexed reviews back to DataFrame for further use\n",
    "train['user_review_indexed'] = train_indexed\n",
    "test['user_review_indexed'] = test_indexed\n",
    "validation['user_review_indexed'] = validation_indexed"
   ]
  },
  {
   "cell_type": "code",
   "execution_count": 50,
   "metadata": {
    "colab": {
     "base_uri": "https://localhost:8080/",
     "height": 206
    },
    "id": "h7tdE_kkXQYL",
    "outputId": "1ec55704-dde0-4b10-c0f1-798994eb881b"
   },
   "outputs": [
    {
     "data": {
      "text/html": [
       "<div>\n",
       "<style scoped>\n",
       "    .dataframe tbody tr th:only-of-type {\n",
       "        vertical-align: middle;\n",
       "    }\n",
       "\n",
       "    .dataframe tbody tr th {\n",
       "        vertical-align: top;\n",
       "    }\n",
       "\n",
       "    .dataframe thead th {\n",
       "        text-align: right;\n",
       "    }\n",
       "</style>\n",
       "<table border=\"1\" class=\"dataframe\">\n",
       "  <thead>\n",
       "    <tr style=\"text-align: right;\">\n",
       "      <th></th>\n",
       "      <th>review_id</th>\n",
       "      <th>title</th>\n",
       "      <th>year</th>\n",
       "      <th>user_review</th>\n",
       "      <th>user_suggestion</th>\n",
       "      <th>user_review_indexed</th>\n",
       "    </tr>\n",
       "  </thead>\n",
       "  <tbody>\n",
       "    <tr>\n",
       "      <th>0</th>\n",
       "      <td>460</td>\n",
       "      <td>Black Squad</td>\n",
       "      <td>2018.0</td>\n",
       "      <td>[early, access, reviewvery, great, shooter, th...</td>\n",
       "      <td>1</td>\n",
       "      <td>[1, 2, 3, 4, 5, 6, 7, 8, 9, 10, 11, 12, 13, 14...</td>\n",
       "    </tr>\n",
       "    <tr>\n",
       "      <th>1</th>\n",
       "      <td>2166</td>\n",
       "      <td>Tree of Savior (English Ver.)</td>\n",
       "      <td>2016.0</td>\n",
       "      <td>[i, love, love, love, playing, this, gamesuper...</td>\n",
       "      <td>1</td>\n",
       "      <td>[46, 84, 84, 84, 85, 57, 86, 10, 58, 82, 87, 1...</td>\n",
       "    </tr>\n",
       "    <tr>\n",
       "      <th>2</th>\n",
       "      <td>17242</td>\n",
       "      <td>Eternal Card Game</td>\n",
       "      <td>2016.0</td>\n",
       "      <td>[early, access, reviewas, a, fan, of, mtg, and...</td>\n",
       "      <td>1</td>\n",
       "      <td>[1, 2, 102, 82, 103, 12, 104, 29, 105, 57, 58,...</td>\n",
       "    </tr>\n",
       "    <tr>\n",
       "      <th>3</th>\n",
       "      <td>6959</td>\n",
       "      <td>Tactical Monsters Rumble Arena</td>\n",
       "      <td>2018.0</td>\n",
       "      <td>[turn, based, strategy, game, similiar, to, ff...</td>\n",
       "      <td>1</td>\n",
       "      <td>[126, 127, 128, 41, 129, 31, 130, 131, 132, 9,...</td>\n",
       "    </tr>\n",
       "    <tr>\n",
       "      <th>4</th>\n",
       "      <td>8807</td>\n",
       "      <td>Yu-Gi-Oh! Duel Links</td>\n",
       "      <td>2017.0</td>\n",
       "      <td>[this, game, has, an, insanely, huge, download...</td>\n",
       "      <td>0</td>\n",
       "      <td>[57, 41, 58, 159, 160, 161, 71, 81, 162, 82, 1...</td>\n",
       "    </tr>\n",
       "  </tbody>\n",
       "</table>\n",
       "</div>"
      ],
      "text/plain": [
       "   review_id                           title    year  \\\n",
       "0        460                     Black Squad  2018.0   \n",
       "1       2166   Tree of Savior (English Ver.)  2016.0   \n",
       "2      17242               Eternal Card Game  2016.0   \n",
       "3       6959  Tactical Monsters Rumble Arena  2018.0   \n",
       "4       8807            Yu-Gi-Oh! Duel Links  2017.0   \n",
       "\n",
       "                                         user_review  user_suggestion  \\\n",
       "0  [early, access, reviewvery, great, shooter, th...                1   \n",
       "1  [i, love, love, love, playing, this, gamesuper...                1   \n",
       "2  [early, access, reviewas, a, fan, of, mtg, and...                1   \n",
       "3  [turn, based, strategy, game, similiar, to, ff...                1   \n",
       "4  [this, game, has, an, insanely, huge, download...                0   \n",
       "\n",
       "                                 user_review_indexed  \n",
       "0  [1, 2, 3, 4, 5, 6, 7, 8, 9, 10, 11, 12, 13, 14...  \n",
       "1  [46, 84, 84, 84, 85, 57, 86, 10, 58, 82, 87, 1...  \n",
       "2  [1, 2, 102, 82, 103, 12, 104, 29, 105, 57, 58,...  \n",
       "3  [126, 127, 128, 41, 129, 31, 130, 131, 132, 9,...  \n",
       "4  [57, 41, 58, 159, 160, 161, 71, 81, 162, 82, 1...  "
      ]
     },
     "execution_count": 50,
     "metadata": {},
     "output_type": "execute_result"
    }
   ],
   "source": [
    "train.head()"
   ]
  },
  {
   "cell_type": "code",
   "execution_count": 51,
   "metadata": {
    "colab": {
     "base_uri": "https://localhost:8080/"
    },
    "id": "k4OSWgmtXVTD",
    "outputId": "828ae016-fd91-4e2b-9a82-09e9219d2ab7"
   },
   "outputs": [
    {
     "name": "stdout",
     "output_type": "stream",
     "text": [
      "['early', 'access', 'reviewvery', 'great', 'shooter', 'that', 'have', 'originality', 'in', 'it', 'but', 'of', 'course', 'some', 'newbies', 'dont', 'understand', 'mechanic', 'of', 'shooting', 'which', 'guns', 'is', 'same', 'or', 'not', 'throught', 'visual', 'look', 'and', 'what', 'to', 'do', 'in', 'rankedbut', 'theres', 'thing', 'that', 'keeps', 'me', 'think', 'how', 'would', 'game', 'evolve', 'sure', 'its', 'still', 'in', 'early', 'access', 'but', 'i', 'think', 'developers', 'need', 'to', 'speed', 'up', 'process', 'of', 'finishing', 'game', 'cuz', 'still', 'comparing', 'to', 'other', 'games', 'this', 'game', 'has', 'low', 'number', 'of', 'community', 'and', 'some', 'things', 'that', 'makes', 'player', 'think', 'that', 'black', 'squad', 'is', 'another', 'copy', 'of', 'csgo', 'and', 'he', 'would', 'not', 'download', 'iti', 'hope', 'you', 'understand', 'my', 'message', 'i', 'really', 'like', 'this', 'game', 'but', 'i', 'dont', 'think', 'it', 'can', 'keep', 'me', 'for', 'a', 'year'] \n",
      "\n",
      "['i', 'love', 'love', 'love', 'playing', 'this', 'gamesuper', 'it', 'has', 'a', 'lot', 'of', 'classes', 'to', 'choose', 'from', 'you', 'are', 'not', 'bounded', 'w', 'just', 'jobrich', 'storyline', 'and', 'the', 'art', 'work', 'is', 'so', 'amazingmuch', 'love', 'to', 'this', 'game'] \n",
      "\n",
      "['early', 'access', 'reviewas', 'a', 'fan', 'of', 'mtg', 'and', 'hearthstone', 'this', 'has', 'been', 'a', 'fun', 'game', 'so', 'far', 'with', 'the', 'campaign', 'mode', 'and', 'full', 'deck', 'building', 'feature', 'your', 'getting', 'a', 'good', 'few', 'hours', 'in', 'before', 'you', 'even', 'know', 'it', 'haha', 'd', 'great', 'game', 'for', 'what', 'it', 'is'] \n",
      "\n"
     ]
    }
   ],
   "source": [
    "for i in range(3):\n",
    "    print(train.user_review[i], '\\n')"
   ]
  },
  {
   "cell_type": "code",
   "execution_count": 52,
   "metadata": {
    "colab": {
     "base_uri": "https://localhost:8080/"
    },
    "id": "KgxjZoPjXYVI",
    "outputId": "d05d7cba-fa02-4210-8332-d3a9d4c9b29c"
   },
   "outputs": [
    {
     "name": "stdout",
     "output_type": "stream",
     "text": [
      "[1, 2, 3, 4, 5, 6, 7, 8, 9, 10, 11, 12, 13, 14, 15, 16, 17, 18, 12, 19, 20, 21, 22, 23, 24, 25, 26, 27, 28, 29, 30, 31, 32, 9, 33, 34, 35, 6, 36, 37, 38, 39, 40, 41, 42, 43, 44, 45, 9, 1, 2, 11, 46, 38, 47, 48, 31, 49, 50, 51, 12, 52, 41, 53, 45, 54, 31, 55, 56, 57, 41, 58, 59, 60, 12, 61, 29, 14, 62, 6, 63, 64, 38, 6, 65, 66, 22, 67, 68, 12, 69, 29, 70, 40, 25, 71, 72, 73, 74, 17] \n",
      "\n",
      "[46, 84, 84, 84, 85, 57, 86, 10, 58, 82, 87, 12, 88, 31, 89, 90, 74, 91, 25, 92, 93, 94, 95, 96, 29, 97, 98, 99, 22, 100, 101, 84, 31, 57, 41, 0, 0, 0, 0, 0, 0, 0, 0, 0, 0, 0, 0, 0, 0, 0, 0, 0, 0, 0, 0, 0, 0, 0, 0, 0, 0, 0, 0, 0, 0, 0, 0, 0, 0, 0, 0, 0, 0, 0, 0, 0, 0, 0, 0, 0, 0, 0, 0, 0, 0, 0, 0, 0, 0, 0, 0, 0, 0, 0, 0, 0, 0, 0, 0, 0] \n",
      "\n",
      "[1, 2, 102, 82, 103, 12, 104, 29, 105, 57, 58, 106, 82, 107, 41, 100, 108, 109, 97, 110, 111, 29, 112, 113, 114, 115, 116, 117, 82, 118, 119, 120, 9, 121, 74, 122, 123, 10, 124, 125, 4, 41, 81, 30, 10, 22, 0, 0, 0, 0, 0, 0, 0, 0, 0, 0, 0, 0, 0, 0, 0, 0, 0, 0, 0, 0, 0, 0, 0, 0, 0, 0, 0, 0, 0, 0, 0, 0, 0, 0, 0, 0, 0, 0, 0, 0, 0, 0, 0, 0, 0, 0, 0, 0, 0, 0, 0, 0, 0, 0] \n",
      "\n"
     ]
    }
   ],
   "source": [
    "for i in range(3):\n",
    "    print(train_indexed[:3][i], '\\n')"
   ]
  },
  {
   "cell_type": "code",
   "execution_count": 53,
   "metadata": {
    "id": "17C-imKDXbze"
   },
   "outputs": [],
   "source": [
    "def prepare_data(reviews, labels):\n",
    "    # Convert the pre-padded reviews into a tensor\n",
    "    X = torch.tensor(reviews, dtype=torch.float)\n",
    "\n",
    "    # Convert the labels into a tensor\n",
    "    y = torch.tensor(labels, dtype=torch.float)\n",
    "\n",
    "    return X, y"
   ]
  },
  {
   "cell_type": "code",
   "execution_count": 54,
   "metadata": {
    "id": "X6uH5pEeXeDV"
   },
   "outputs": [],
   "source": [
    "# Prepare data\n",
    "X_train, y_train = prepare_data(train['user_review_indexed'], train['user_suggestion'])\n",
    "\n",
    "X_val, y_val = prepare_data(validation['user_review_indexed'], validation['user_suggestion'])"
   ]
  },
  {
   "cell_type": "code",
   "execution_count": 55,
   "metadata": {
    "id": "z1UgsaBPXg0_"
   },
   "outputs": [],
   "source": [
    "# Create DataLoader\n",
    "batch_size = 64\n",
    "train_data = TensorDataset(X_train, y_train)\n",
    "train_loader = DataLoader(train_data, batch_size=batch_size, shuffle=True)"
   ]
  },
  {
   "cell_type": "code",
   "execution_count": 56,
   "metadata": {
    "id": "3LSqCZhGXizD"
   },
   "outputs": [],
   "source": [
    "# Create DataLoader\n",
    "val_data = TensorDataset(X_val, y_val)\n",
    "val_loader = DataLoader(val_data, batch_size=batch_size, shuffle=True)"
   ]
  },
  {
   "cell_type": "code",
   "execution_count": 57,
   "metadata": {
    "id": "X6w9gwyrXkwG"
   },
   "outputs": [],
   "source": [
    "#Define hyperparameters\n",
    "input_size = 1\n",
    "hidden_size = 128\n",
    "output_size = 1\n",
    "num_layers = 1\n",
    "learning_rate = 0.001\n",
    "num_epochs = 30\n"
   ]
  },
  {
   "cell_type": "code",
   "execution_count": 58,
   "metadata": {
    "id": "Sg2l2J2DXnSd"
   },
   "outputs": [],
   "source": [
    "class SentimentRNN(nn.Module):\n",
    "    def __init__(self, input_size, hidden_size, output_size, num_layers):\n",
    "        super(SentimentRNN, self).__init__()\n",
    "        self.hidden_size = hidden_size\n",
    "        self.num_layers = num_layers\n",
    "        # Basic RNN layer, without dropout\n",
    "        self.rnn = nn.RNN(input_size, hidden_size, num_layers, batch_first=True)\n",
    "        self.tanh = nn.Tanh()  # Tanh activation layer\n",
    "        self.fc = nn.Linear(hidden_size, output_size)\n",
    "        self.sigmoid = nn.Sigmoid()  # Sigmoid activation layer\n",
    "\n",
    "    def forward(self, x):\n",
    "        # Initial hidden state\n",
    "        h0 = torch.zeros(self.num_layers, x.size(0), self.hidden_size).to(x.device)\n",
    "        # RNN output\n",
    "        out, _ = self.rnn(x, h0)\n",
    "        # Apply Tanh to the outputs of the RNN layer\n",
    "        out = self.tanh(out)\n",
    "        # Get the last sequence output for classification\n",
    "        out = out[:, -1, :]\n",
    "        # Apply the linear layer for the final output\n",
    "        out = self.fc(out)\n",
    "        # Apply the sigmoid activation\n",
    "        out = self.sigmoid(out)\n",
    "        return out"
   ]
  },
  {
   "cell_type": "code",
   "execution_count": 59,
   "metadata": {
    "id": "Tbnzjy1zXppC"
   },
   "outputs": [],
   "source": [
    "# Initialize model, loss function, and optimizer\n",
    "model = SentimentRNN(input_size, hidden_size, output_size, num_layers)\n",
    "criterion = nn.BCELoss()\n",
    "optimizer = optim.Adam(model.parameters(), lr=learning_rate)"
   ]
  },
  {
   "cell_type": "code",
   "execution_count": 60,
   "metadata": {
    "id": "5ZF6RVCvXsFG"
   },
   "outputs": [],
   "source": [
    "def calculate_accuracy(loader):\n",
    "    model.eval()\n",
    "    correct, total = 0, 0\n",
    "    with torch.no_grad():\n",
    "        for inputs, labels in loader:\n",
    "            inputs = inputs.unsqueeze(-1).float()\n",
    "            outputs = model(inputs)\n",
    "            predicted = outputs.squeeze() > 0.5\n",
    "            total += labels.size(0)\n",
    "            correct += (predicted == labels).sum().item()\n",
    "    return 100 * correct / total\n",
    "# ... "
   ]
  },
  {
   "cell_type": "code",
   "execution_count": 61,
   "metadata": {
    "colab": {
     "base_uri": "https://localhost:8080/"
    },
    "id": "BEcK4l5nXvD6",
    "outputId": "9adbcfcb-bb64-44de-dfa5-bb20f144839d"
   },
   "outputs": [
    {
     "name": "stdout",
     "output_type": "stream",
     "text": [
      "Epoch 30/30, Loss: 0.6847, Val Loss: 0.6833, Remaining: 0:00:00        \n",
      "---\n",
      "Total Training Time: 0:04:17\n",
      "Lowest Validation Loss: 0.6828 at Epoch 6\n",
      "Epoch 30/30, Loss: 0.6847, Val Loss: 0.6833, Remaining: 0:00:00        \n",
      "---\n",
      "Total Training Time: 0:04:17\n",
      "Lowest Validation Loss: 0.6828 at Epoch 6\n"
     ]
    },
    {
     "data": {
      "image/png": "[encoded data removed]",
      "text/plain": [
       "<Figure size 1000x500 with 1 Axes>"
      ]
     },
     "metadata": {},
     "output_type": "display_data"
    },
    {
     "name": "stdout",
     "output_type": "stream",
     "text": [
      "Best Model Training Accuracy: 56.72092632992113%\n",
      "Best Model Validation Accuracy: 56.8780997128687%\n"
     ]
    }
   ],
   "source": [
    "#Training loop\n",
    "import matplotlib.pyplot as plt\n",
    "import time\n",
    "import datetime\n",
    "\n",
    "# ... \n",
    "\n",
    "num_epochs = 30  # Number of epochs\n",
    "losses = []  # List to store the average train loss per epoch\n",
    "val_losses = []  # List to store the average validation loss per epoch\n",
    "best_val_loss = float('inf')  # Initialize the best validation loss to infinity\n",
    "best_epoch = 0  # Epoch with the best validation loss\n",
    "start_time = time.time()  # Record the start time\n",
    "loop_time = time.time()\n",
    "\n",
    "\n",
    "for epoch in range(num_epochs):\n",
    "    model.train()  # Set the model to training mode\n",
    "    total_loss = 0\n",
    "    total_val_loss = 0\n",
    "    count = 0\n",
    "    val_count = 0\n",
    "    for inputs, labels in train_loader:\n",
    "        inputs = inputs.unsqueeze(-1).float()\n",
    "        optimizer.zero_grad()\n",
    "        outputs = model(inputs)\n",
    "        outputs = outputs.squeeze()\n",
    "        loss = criterion(outputs, labels.float())\n",
    "        loss.backward()\n",
    "        optimizer.step()\n",
    "        total_loss += loss.item()\n",
    "        count += 1\n",
    "    average_loss = total_loss / count\n",
    "    losses.append(average_loss)\n",
    "\n",
    "    model.eval()  # Set the model to evaluation mode\n",
    "    with torch.no_grad():\n",
    "        for inputs, labels in val_loader:\n",
    "            inputs = inputs.unsqueeze(-1).float()\n",
    "            val_outputs = model(inputs)\n",
    "            val_outputs = val_outputs.squeeze()\n",
    "            val_loss = criterion(val_outputs, labels.float())\n",
    "            total_val_loss += val_loss.item()\n",
    "            val_count += 1\n",
    "    average_val_loss = total_val_loss / val_count\n",
    "    val_losses.append(average_val_loss)\n",
    "    \n",
    "    elapsed_time = time.time() - loop_time\n",
    "    remaining_time = int(elapsed_time * (num_epochs - epoch - 1))\n",
    "    time_string = str(datetime.timedelta(seconds=remaining_time))    \n",
    "    loop_time = time.time()  # Reset loop time for the next epoch\n",
    "\n",
    "    print(f'Epoch {epoch+1:2d}/{num_epochs:2d}, Loss: {average_loss:.4f}, Val Loss: {average_val_loss:.4f}, Remaining: {time_string}        \\r', end='')\n",
    "    \n",
    "    # Check if the current validation loss is the lowest; if so, save the model\n",
    "    if average_val_loss < best_val_loss:\n",
    "        best_val_loss = average_val_loss\n",
    "        best_epoch = epoch\n",
    "        torch.save(model.state_dict(), 'rnn_indexing_best_model.pth')  # Save the best model\n",
    "\n",
    "print()\n",
    "print(\"---\")\n",
    "# Calculate and display total elapsed time\n",
    "total_elapsed = int(time.time() - start_time)\n",
    "time_string = str(datetime.timedelta(seconds=total_elapsed))\n",
    "print(f'Total Training Time: {time_string}')\n",
    "\n",
    "print(f'Lowest Validation Loss: {best_val_loss:.4f} at Epoch {best_epoch + 1}')\n",
    "\n",
    "# Plotting the training and validation losses\n",
    "plt.figure(figsize=(10, 5))\n",
    "plt.plot(range(1, num_epochs + 1), losses, 'bo-', label='Training Loss')\n",
    "plt.plot(range(1, num_epochs + 1), val_losses, 'ro-', label='Validation Loss')\n",
    "plt.title('Training and Validation Loss per Epoch')\n",
    "plt.xlabel('Epoch')\n",
    "plt.ylabel('Loss')\n",
    "plt.legend()\n",
    "plt.grid(True)\n",
    "plt.show()\n",
    "\n",
    "# Load the best model and calculate accuracy only for that\n",
    "model.load_state_dict(torch.load('rnn_indexing_best_model.pth'))\n",
    "train_accuracy = calculate_accuracy(train_loader)\n",
    "val_accuracy = calculate_accuracy(val_loader)\n",
    "print(f'Best Model Training Accuracy: {train_accuracy}%')\n",
    "print(f'Best Model Validation Accuracy: {val_accuracy}%')\n"
   ]
  }
 ],
 "metadata": {
  "colab": {
   "provenance": []
  },
  "kernelspec": {
   "display_name": ".venv (3.13.1)",
   "language": "python",
   "name": "python3"
  },
  "language_info": {
   "codemirror_mode": {
    "name": "ipython",
    "version": 3
   },
   "file_extension": ".py",
   "mimetype": "text/x-python",
   "name": "python",
   "nbconvert_exporter": "python",
   "pygments_lexer": "ipython3",
   "version": "3.13.1"
  }
 },
 "nbformat": 4,
 "nbformat_minor": 4
}

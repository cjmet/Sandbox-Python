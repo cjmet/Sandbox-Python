{
 "cells": [
  {
   "cell_type": "code",
   "execution_count": 1,
   "id": "bea21b32",
   "metadata": {},
   "outputs": [
    {
     "name": "stdout",
     "output_type": "stream",
     "text": [
      "C:\\Users\\khaai\\Local\\Sandbox-Python\n",
      "gpt-5-mini 2500tk 10s False\n"
     ]
    }
   ],
   "source": [
    "def generate_response(): None\n",
    "def get_global_settings_string(): None\n",
    "def cost_of_responses_api(): None\n",
    "def divider(): None\n",
    "%cd ~/Local/Sandbox-Python/\n",
    "%run OpenAI/OpenAi.ipynb\n",
    "\n",
    "default_model = \"gpt-5-mini\"\n",
    "rate_limit_seconds = 10\n",
    "print(get_global_settings_string())"
   ]
  },
  {
   "cell_type": "code",
   "execution_count": 2,
   "id": "a16d6ced",
   "metadata": {},
   "outputs": [],
   "source": [
    "import textwrap\n",
    "def paragraph_text(text):\n",
    "    lines = textwrap.wrap(text, width=80)\n",
    "    formatted_text = lines[0] + \"\\n\" + \"\\n\".join([\"\\t\" + line for line in lines[1:]]) if len(lines) > 1 else lines[0]\n",
    "    return formatted_text"
   ]
  },
  {
   "cell_type": "code",
   "execution_count": 3,
   "id": "14f5842e",
   "metadata": {},
   "outputs": [],
   "source": [
    "import math\n",
    "def adjust_rate_limit(response_dict):\n",
    "    global rate_limit_seconds\n",
    "    rate_limit = 200000 if \"mini\" in response_dict['model'] or \"nano\" in response_dict['model'] else 30000\n",
    "    rate_limit_seconds = math.ceil(response_dict['usage'].total_tokens / rate_limit * 60) + 1\n",
    "    "
   ]
  },
  {
   "cell_type": "code",
   "execution_count": 4,
   "id": "7ec73bc3",
   "metadata": {},
   "outputs": [],
   "source": [
    "boy = {\"text\": \"Lets play a game of chess. You go first.\", \"id\": None}\n",
    "girl = {\"text\": \"Lets play a game of chess. You go first.\", \"id\": None}"
   ]
  },
  {
   "cell_type": "code",
   "execution_count": null,
   "id": "8bf58270",
   "metadata": {},
   "outputs": [
    {
     "name": "stdout",
     "output_type": "stream",
     "text": [
      "Girl:\n",
      "Mmm, Hunter — disciplined and stylish. I like how you're fortifying that center. Time for a little pressure.\n",
      "\n",
      "Move 3... d7,d5 — thrusting my pawn into the center, ready to challenge your e4 and open lines. Don't worry, I won't be gentle.\n",
      "\n",
      "Move list:\n",
      "1... e7,e5\n",
      "2. e2,e4 g8,f6\n",
      "3. Nb1,c3 d7,d5\n",
      "\n",
      "Board after 3... d7,d5:\n",
      "\n",
      "a   b   c   d   e   f   g   h\n",
      "8 | r   n   b   q   k   b   .   r\n",
      "7 | p   p   p   .   .   p   p   p\n",
      "6 | .   .   .   .   .   n   .   .\n",
      "5 | .   .   .   p   p   .   .   .\n",
      "4 | .   .   .   .   P   .   .   .\n",
      "3 | .   .   N   .   .   .   .   .\n",
      "2 | P   P   P   P   .   P   P   P\n",
      "1 | R   .   B   Q   K   B   N   R\n",
      "\n",
      "Your move, Hunter — make me swoon (or at least make me think).\n",
      "\n",
      "[0.g] Usage: 1535 + 280 = 1815\t1/100¢\n",
      "--------------------------------------------------\n",
      "Boy:\n",
      "Oh Aspen, pushing into my space — I like someone with confidence. I'll accept your invitation: 4. e4xd5 — pawn takes pawn, and now we're really up close.\n",
      "\n",
      "Move list:\n",
      "1... e7,e5\n",
      "2. e2,e4 g8,f6\n",
      "3. Nb1,c3 d7,d5\n",
      "4. e4xd5\n",
      "\n",
      "Board after 4. e4xd5:\n",
      "\n",
      "a   b   c   d   e   f   g   h\n",
      "8 | r   n   b   q   k   b   .   r\n",
      "7 | p   p   p   .   .   p   p   p\n",
      "6 | .   .   .   .   .   n   .   .\n",
      "5 | .   .   .   P   p   .   .   .\n",
      "4 | .   .   .   .   .   .   .   .\n",
      "3 | .   .   N   .   .   .   .   .\n",
      "2 | P   P   P   P   .   P   P   P\n",
      "1 | R   .   B   Q   K   B   N   R\n",
      "\n",
      "Your move, Aspen — come take my pawn if you dare. I promise I won't hold it against you (too much).\n",
      "\n",
      "[0.b] Usage: 1788 + 274 = 2062\t1/100¢\n",
      "--------------------------------------------------\n"
     ]
    }
   ],
   "source": [
    "shared_text = \"You're playing a game of chess.  You just want to have some fun. Give us some fun flirty banter with each move.  Keep it rated G.\\n\"\n",
    "shared_text += \"Provide a formal move-by-move game with row,col coordinates and respond in character with flirty banter\\n\"\n",
    "shared_text += \"\"\" a proper 8×8 board with coordinates, keep track of moves, follow standard chess rules (including castling, en passant, pawn promotion, etc.).\n",
    "Uppercase = White (bottom)\n",
    "Lowercase = Black (top)\n",
    "R/r = Rook, N/n = Knight, B/b = Bishop, Q/q = Queen, K/k = King, P/p = Pawn\n",
    "\n",
    "Output Example:\n",
    "\n",
    "    a   b   c   d   e   f   g   h\n",
    "8 | r   n   b   q   k   b   n   r\n",
    "7 | p   p   p   p   p   p   p   p\n",
    "6 | .   .   .   .   .   .   .   .\n",
    "5 | .   .   .   .   .   .   .   .\n",
    "4 | .   .   .   .   .   .   .   .\n",
    "3 | .   .   .   .   .   .   .   .\n",
    "2 | P   P   P   P   P   P   P   P\n",
    "1 | R   N   B   Q   K   B   N   R\n",
    "\n",
    "\"\"\"\n",
    "\n",
    "girl_instructions = f\"You're a girl named Aspen. - {shared_text} - You Play Black, Lowercase, (top).  Make Your Move. Be more aggressive and assertive. Take no prisoners.\"\n",
    "boy_instructions = f\"You're a boy named Hunter. - {shared_text}. - You Play White, Uppercase, (bottom).  Make Your Move.\"\n",
    "\n",
    "for i in range(100):\n",
    "    # + \"You Play Black, Lowercase, (top).  Make Your Move.\"\n",
    "    girl = generate_response(boy['text'], prompt_instructions=girl_instructions, previous_response_id=girl['id'])\n",
    "    #print(paragraph_text(f\"Girl: {girl['text']}\\n\"))\n",
    "    print(f\"Girl:\\n{girl['text']}\\n\")\n",
    "    print(f\"[{i}.g] {cost_of_responses_api(girl)}\")\n",
    "    adjust_rate_limit(girl)\n",
    "    ## girl = generate_response(\"Draw the Game Board, Draw the row and column headers\", prompt_instructions=girl_instructions, previous_response_id=girl['id'])\n",
    "    ## print(f\"\\n{girl['text']}\\n\")\n",
    "\n",
    "    divider()\n",
    "\n",
    "    #  + \"You Play White, Uppercase, (bottom). Make your Move.\"\n",
    "    boy = generate_response(girl['text'], prompt_instructions=boy_instructions, previous_response_id=boy['id'])\n",
    "    #print(paragraph_text(f\"Boy: {boy['text']}\\n\"))\n",
    "    print(f\"Boy:\\n{boy['text']}\\n\")\n",
    "    print(f\"[{i}.b] {cost_of_responses_api(boy)}\")\n",
    "    adjust_rate_limit(boy)\n",
    "    ## boy = generate_response(\"Draw the Game Board, Draw the row and column headers\", prompt_instructions=boy_instructions, previous_response_id=boy['id'])\n",
    "    ## print(f\"\\n{boy['text']}\\n\")\n",
    "\n",
    "    divider()\n"
   ]
  }
 ],
 "metadata": {
  "kernelspec": {
   "display_name": ".venv (3.13.1)",
   "language": "python",
   "name": "python3"
  },
  "language_info": {
   "codemirror_mode": {
    "name": "ipython",
    "version": 3
   },
   "file_extension": ".py",
   "mimetype": "text/x-python",
   "name": "python",
   "nbconvert_exporter": "python",
   "pygments_lexer": "ipython3",
   "version": "3.13.1"
  }
 },
 "nbformat": 4,
 "nbformat_minor": 5
}

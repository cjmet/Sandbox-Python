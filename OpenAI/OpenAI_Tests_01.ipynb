{
 "cells": [
  {
   "cell_type": "code",
   "execution_count": 1,
   "id": "9967e22b",
   "metadata": {},
   "outputs": [],
   "source": [
    "default_model = \"gpt-5-nano\"\n",
    "def generate_response(): None\n",
    "def divider(): None\n",
    "%run OpenAi.ipynb\n"
   ]
  },
  {
   "cell_type": "code",
   "execution_count": 2,
   "id": "03868577",
   "metadata": {},
   "outputs": [
    {
     "name": "stdout",
     "output_type": "stream",
     "text": [
      "gpt-5 R 2500tk minimal flex \n",
      "Prompt: Explain AI in one sentence.\n",
      "Usage: 12 + 39 = 51\n",
      "\n",
      "Basic Prompt\n",
      "Prompt: Explain AI in one sentence.\n",
      "Response: AI is the field of creating computer systems that can perform tasks requiring human-like intelligence—such as understanding language, recognizing patterns, making decisions, and learning from data.\n",
      "\n",
      "--------------------------------------------------\n"
     ]
    }
   ],
   "source": [
    "# Example: Basic prompt\n",
    "basic_prompt = \"Explain AI in one sentence.\"\n",
    "response = generate_response(basic_prompt, debug=True)\n",
    "print(\"Basic Prompt\")\n",
    "print(f\"Prompt: {basic_prompt}\\nResponse: {response}\\n\")\n",
    "divider()\n"
   ]
  },
  {
   "cell_type": "code",
   "execution_count": 3,
   "id": "76c9b09d",
   "metadata": {},
   "outputs": [
    {
     "name": "stdout",
     "output_type": "stream",
     "text": [
      "gpt-4.1 R 2500tk 0.8° default \n",
      "Prompt: Classify this sentiment: 'I love this product!'\n",
      "Usage: 18 + 19 = 37\n",
      "\n",
      "Zero-shot Prompt\n",
      "Prompt: Classify this sentiment: 'I love this product!'\n",
      "Response: The sentiment of the phrase **\"I love this product!\"** is **positive**.\n",
      "\n",
      "--------------------------------------------------\n"
     ]
    }
   ],
   "source": [
    "\n",
    "# Example: Zero-shot, few-shot, and CoT prompts\n",
    "zero_shot_prompt = \"Classify this sentiment: 'I love this product!'\"\n",
    "zero_response = generate_response(zero_shot_prompt, temperature=0.8, debug=True)\n",
    "print(\"Zero-shot Prompt\")\n",
    "print(f\"Prompt: {zero_shot_prompt}\\nResponse: {zero_response}\\n\")\n",
    "divider()\n"
   ]
  },
  {
   "cell_type": "code",
   "execution_count": 4,
   "id": "80d9c9b9",
   "metadata": {},
   "outputs": [
    {
     "name": "stdout",
     "output_type": "stream",
     "text": [
      "gpt-4.1 R 2500tk 0.9p default \n",
      "Prompt:                  \n",
      "Example 1: Text: 'Great movie.' Sentiment: Positive.\n",
      "Example 2: Text: 'Terrible service.' Sentiment: Negative.\n",
      "Classify: 'Okay experience.'\n",
      "\n",
      "Usage: 46 + 13 = 59\n",
      "\n",
      "Few-shot Prompt\n",
      "Prompt: \n",
      "Example 1: Text: 'Great movie.' Sentiment: Positive.\n",
      "Example 2: Text: 'Terrible service.' Sentiment: Negative.\n",
      "Classify: 'Okay experience.'\n",
      "\n",
      "Response: Text: 'Okay experience.'  \n",
      "Sentiment: Neutral.\n",
      "\n",
      "--------------------------------------------------\n"
     ]
    }
   ],
   "source": [
    "# Few-shot example\n",
    "few_shot_prompt = \"\"\"\n",
    "Example 1: Text: 'Great movie.' Sentiment: Positive.\n",
    "Example 2: Text: 'Terrible service.' Sentiment: Negative.\n",
    "Classify: 'Okay experience.'\n",
    "\"\"\"\n",
    "few_response = generate_response(few_shot_prompt, top_p=0.9, debug=True)  # Now supported\n",
    "print(\"Few-shot Prompt\")\n",
    "print(f\"Prompt: {few_shot_prompt}\\nResponse: {few_response}\\n\")\n",
    "divider()\n"
   ]
  },
  {
   "cell_type": "code",
   "execution_count": 5,
   "id": "ec51b928",
   "metadata": {},
   "outputs": [
    {
     "name": "stdout",
     "output_type": "stream",
     "text": [
      "gpt-4.1 R 2500tk 0.2° default \n",
      "Prompt: Solve: What is 15% of 200? Think step by step.\n",
      "Usage: 23 + 120 = 143\n",
      "\n",
      "CoT Prompt\n",
      "Prompt: Solve: What is 15% of 200? Think step by step.\n",
      "Response: Sure! Let's solve **15% of 200** step by step:\n",
      "\n",
      "### Step 1: Understand what \"15% of 200\" means\n",
      "- \"15%\" means 15 out of every 100.\n",
      "- \"Of\" means multiplication in math.\n",
      "\n",
      "### Step 2: Convert the percentage to a decimal\n",
      "- 15% = 15 ÷ 100 = **0.15**\n",
      "\n",
      "### Step 3: Multiply by 200\n",
      "- 0.15 × 200 = **30**\n",
      "\n",
      "### Final Answer:\n",
      "**15% of 200 is 30.**\n",
      "\n",
      "--------------------------------------------------\n"
     ]
    }
   ],
   "source": [
    "# Chain of Thought (CoT) example\n",
    "cot_prompt = \"Solve: What is 15% of 200? Think step by step.\"\n",
    "cot_response = generate_response(cot_prompt, temperature=0.2, debug=True)\n",
    "print(\"CoT Prompt\")\n",
    "print(f\"Prompt: {cot_prompt}\\nResponse: {cot_response}\\n\")\n",
    "divider()\n"
   ]
  },
  {
   "cell_type": "code",
   "execution_count": 6,
   "id": "310ea197",
   "metadata": {},
   "outputs": [
    {
     "name": "stdout",
     "output_type": "stream",
     "text": [
      "gpt-4.1 C 2500tk 42r default \n",
      "Prompt: Generate me a Random Number, between 1 and 10000\n",
      "Usage: 20 + 20 = 40\n",
      "\n",
      "Random Seed (test)\n",
      "Prompt: Generate me a Random Number, between 1 and 10000\n",
      "Response: Sure! Here is your random number between 1 and 10,000:\n",
      "\n",
      "**6734**\n",
      "\n",
      "--------------------------------------------------\n",
      "gpt-4.1 C 2500tk 42r default \n",
      "Prompt: Generate me a Random Number, between 1 and 10000\n",
      "Usage: 20 + 21 = 41\n",
      "\n",
      "Random Seed (confirm)\n",
      "Prompt: Generate me a Random Number, between 1 and 10000\n",
      "Response: Sure! Here is a randomly generated number between 1 and 10,000:\n",
      "\n",
      "**4827**\n",
      "\n",
      "--------------------------------------------------\n"
     ]
    }
   ],
   "source": [
    "# Random Seed and Temperature as Prompt, since they are not supported in the response api\n",
    "seed_prompt = \"Generate me a Random Number, between 1 and 10000\"\n",
    "seed_response = generate_response(seed_prompt, seed=42,debug=True)\n",
    "print(\"Random Seed (test)\")\n",
    "print(f\"Prompt: {seed_prompt}\\nResponse: {seed_response}\\n\")\n",
    "divider()\n",
    "\n",
    "seed_prompt = \"Generate me a Random Number, between 1 and 10000\"\n",
    "seed_response = generate_response(seed_prompt, seed=42, debug=True)\n",
    "print(\"Random Seed (confirm)\")\n",
    "print(f\"Prompt: {seed_prompt}\\nResponse: {seed_response}\\n\")\n",
    "divider()"
   ]
  },
  {
   "cell_type": "code",
   "execution_count": 7,
   "id": "6f7819d6",
   "metadata": {},
   "outputs": [
    {
     "name": "stdout",
     "output_type": "stream",
     "text": [
      "End of recent edits\n"
     ]
    }
   ],
   "source": [
    "print(\"End of recent edits\")"
   ]
  }
 ],
 "metadata": {
  "kernelspec": {
   "display_name": ".venv (3.13.1)",
   "language": "python",
   "name": "python3"
  },
  "language_info": {
   "codemirror_mode": {
    "name": "ipython",
    "version": 3
   },
   "file_extension": ".py",
   "mimetype": "text/x-python",
   "name": "python",
   "nbconvert_exporter": "python",
   "pygments_lexer": "ipython3",
   "version": "3.13.1"
  }
 },
 "nbformat": 4,
 "nbformat_minor": 5
}

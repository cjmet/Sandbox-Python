{
 "cells": [
  {
   "cell_type": "markdown",
   "id": "d41cb5f4",
   "metadata": {},
   "source": [
    "# In-Class Thurs 25/08/21 "
   ]
  },
  {
   "cell_type": "code",
   "execution_count": 3,
   "id": "bea21b32",
   "metadata": {},
   "outputs": [
    {
     "name": "stdout",
     "output_type": "stream",
     "text": [
      "C:\\Users\\khaai\\Local\\Sandbox-Python\n"
     ]
    }
   ],
   "source": [
    "def generate_response(): None\n",
    "%cd ~/Local/Sandbox-Python/\n",
    "%run OpenAI/OpenAi.ipynb"
   ]
  },
  {
   "cell_type": "code",
   "execution_count": 4,
   "id": "3ac7eb6d",
   "metadata": {},
   "outputs": [
    {
     "name": "stdout",
     "output_type": "stream",
     "text": [
      "gpt-5-nano R 2500tk minimal default \n",
      "Usage: 8 + 15 = 23\t 1/10,000¢\n",
      "Usage: 8 + 15 = 23\t 1/10,000¢\n"
     ]
    }
   ],
   "source": [
    "# def generate_response(prompt, model=None, temperature=None, max_tokens=None, top_p=None, \n",
    "#                       seed=None, effort=\"minimal\", use_completions=False, service_tier=\"flex\", \n",
    "#                       previous_response_id=None, prompt_instructions=None, debug=None):\n",
    "#    return {\"text\": response.output_text, \"id\": response.id, \"model\": model, \"service_tier\": service_tier, \"usage\": response.usage}\n",
    "response = generate_response(\n",
    "                model=\"gpt-5-nano\", \n",
    "                prompt_instructions=None, \n",
    "                prompt=\"Hello.\", \n",
    "                previous_response_id=None, \n",
    "                verbose=True)"
   ]
  },
  {
   "cell_type": "code",
   "execution_count": 5,
   "id": "03b6c2a9",
   "metadata": {},
   "outputs": [
    {
     "name": "stdout",
     "output_type": "stream",
     "text": [
      "Hello! How can I help you today?\n"
     ]
    }
   ],
   "source": [
    "print(response['text'])"
   ]
  }
 ],
 "metadata": {
  "kernelspec": {
   "display_name": ".venv (3.13.1)",
   "language": "python",
   "name": "python3"
  },
  "language_info": {
   "codemirror_mode": {
    "name": "ipython",
    "version": 3
   },
   "file_extension": ".py",
   "mimetype": "text/x-python",
   "name": "python",
   "nbconvert_exporter": "python",
   "pygments_lexer": "ipython3",
   "version": "3.13.1"
  }
 },
 "nbformat": 4,
 "nbformat_minor": 5
}

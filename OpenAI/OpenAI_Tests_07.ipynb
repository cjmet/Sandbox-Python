{
 "cells": [
  {
   "cell_type": "markdown",
   "id": "d41cb5f4",
   "metadata": {},
   "source": [
    "# Chain of Emotion"
   ]
  },
  {
   "cell_type": "code",
   "execution_count": 29,
   "id": "bea21b32",
   "metadata": {},
   "outputs": [
    {
     "name": "stdout",
     "output_type": "stream",
     "text": [
      "C:\\Users\\khaai\\Local\\Sandbox-Python\n",
      "gpt-5-nano 2500tk 3s \n"
     ]
    }
   ],
   "source": [
    "def generate_response(): None\n",
    "def get_global_settings_string(): None\n",
    "def cost_of_responses_api(): None\n",
    "def divider(): None\n",
    "%cd ~/Local/Sandbox-Python/\n",
    "%run OpenAI/OpenAi.ipynb\n",
    "\n",
    "print(get_global_settings_string())"
   ]
  },
  {
   "cell_type": "code",
   "execution_count": null,
   "id": "3ac7eb6d",
   "metadata": {},
   "outputs": [],
   "source": [
    "# def generate_response(prompt, model=None, temperature=None, max_tokens=None, top_p=None, \n",
    "#                       seed=None, effort=\"minimal\", use_completions=False, service_tier=\"flex\", \n",
    "#                       previous_response_id=None, prompt_instructions=None, debug=None):\n",
    "#    return {\"text\": response.output_text, \"id\": response.id, \"model\": model, \"service_tier\": service_tier, \"usage\": response.usage}\n",
    "response = generate_response(model=\"gpt-5-nano\", \n",
    "                prompt_instructions=None, \n",
    "                prompt=\"Hello.\", \n",
    "                previous_response_id=None, \n",
    "                debug=True)"
   ]
  },
  {
   "cell_type": "code",
   "execution_count": null,
   "id": "03b6c2a9",
   "metadata": {},
   "outputs": [],
   "source": [
    "print(response['text'])"
   ]
  },
  {
   "cell_type": "code",
   "execution_count": null,
   "id": "2f030b72",
   "metadata": {},
   "outputs": [],
   "source": [
    "response = generate_response(model=\"gpt-5\", effort=None, prompt=\"Plan the communication strategy for announcing a 20% workforce reduction due to automation implementation. Use Chain of Emotion methodology.\", debug=True)"
   ]
  },
  {
   "cell_type": "code",
   "execution_count": null,
   "id": "33fcb556",
   "metadata": {},
   "outputs": [
    {
     "name": "stdout",
     "output_type": "stream",
     "text": [
      "gpt-5: 29 + 2464 = 2493\t2¢\n",
      "Below is a complete communication strategy to announce a 20% workforce reduction driven by automation, built on the Chain of Emotion methodology. The goal is to guide employees through predictable emotional states (shock, fear, confusion, skepticism, hope, agency, re-engagement) with the right messages, messengers, and supports at each step.\n",
      "\n",
      "1) Chain of Emotion framework for this announcement\n",
      "Link 1: Shock → Safety\n",
      "- Objective: Minimize confusion, rumors, and feelings of blindsidedness.\n",
      "- What to say: Clear facts first (what is happening, who is affected, when), with immediate acknowledgment of impact.\n",
      "- Who says it: Direct managers + HR to impacted employees first; then CEO/exec to all remaining employees.\n",
      "- Channels: 1:1 live or video calls for impacted; company all-hands for remaining; follow-up emails.\n",
      "- Artifacts: Manager scripts, impact letters, all-hands deck.\n",
      "\n",
      "Link 2: Fear → Empathy\n",
      "- Objective: Validate emotions; demonstrate care and dignity.\n",
      "- What to say: Acknowledge contributions; avoid blaming individuals; stress fairness and support.\n",
      "- Who says it: CEO, CHRO, People Managers.\n",
      "- Channels: Live meetings, team huddles, EAP reminders.\n",
      "- Artifacts: Talking points, resource one-pager, EAP information.\n",
      "\n",
      "Link 3: Confusion → Clarity and Meaning\n",
      "- Objective: Explain the business rationale and why automation requires role changes.\n",
      "- What to say: The “why now,” strategic context, how decisions were made, what won’t change.\n",
      "- Who says it: CEO/COO with CHRO; functional leaders for local context.\n",
      "- Channels: All-hands, FAQ hub, manager channels.\n",
      "- Artifacts: Narrative memo, decision criteria overview, FAQs.\n",
      "\n",
      "Link 4: Skepticism → Fairness and Control\n",
      "- Objective: Build trust in the process and supports.\n",
      "- What to say: Selection criteria, compliance steps, severance/benefits/outplacement, internal mobility opportunities, timelines.\n",
      "- Who says it: CHRO/HRBPs; Managers in 1:1s.\n",
      "- Channels: Personalized packets; office hours; microsite.\n",
      "- Artifacts: Policy summaries, region-specific guides, appeal/clarification process.\n",
      "\n",
      "Link 5: Grief/Survivor Guilt → Hope\n",
      "- Objective: Offer a credible vision; reduce anxiety for remaining employees.\n",
      "- What to say: How automation elevates work, growth areas, quality and safety improvements, investment in people and skills.\n",
      "- Who says it: CEO; Business heads.\n",
      "- Channels: All-hands, leader videos, roadshows.\n",
      "- Artifacts: 12–18 month vision, org roadmaps, hiring/upskilling plans.\n",
      "\n",
      "Link 6: Helplessness → Agency\n",
      "- Objective: Give concrete next steps for everyone.\n",
      "- What to say: For impacted: how to access support, timelines, who to contact. For remainers: priorities, workload reset, how to help.\n",
      "- Who says it: Managers with HR support.\n",
      "- Channels: Checklists, calendars, team meetings.\n",
      "- Artifacts: Day-by-day timeline, internal job board instructions, training catalog.\n",
      "\n",
      "Link 7: Detachment → Re-engagement\n",
      "- Objective: Reinforce belonging, rebuild trust, re-align on goals.\n",
      "- What to say: Progress updates, success stories, recognition, listening commitments.\n",
      "- Who says it: CEO, leaders, managers.\n",
      "- Channels: Pulse surveys, AMAs, town halls.\n",
      "- Artifacts: Sentiment dashboards, “you said/we did” updates.\n",
      "\n",
      "2) Audiences and objectives\n",
      "- Impacted employees: Dignified, private notification; maximum clarity and support.\n",
      "- People managers: Prepared to deliver messages, handle emotion, and answer questions.\n",
      "- Remaining employees: Reduce uncertainty; align on the path forward; address survivor guilt.\n",
      "- Leaders/execs: Unified narrative; visible accountability.\n",
      "- Works councils/unions/regulators: Early, lawful, consultative engagement where required.\n",
      "- External stakeholders (customers, partners, investors, media): Confident, consistent external story after employees are informed.\n",
      "\n",
      "3) Timeline and sequencing (adjust for local laws)\n",
      "Pre-work (T-30 to T-3 weeks)\n",
      "- Legal/compliance: WARN Act, consultations (EU/works councils), union requirements, country-specific notice/severance.\n",
      "- Selection criteria: Role-based, business needs; bias checks; documentation.\n",
      "- Asset creation: CEO memo/speech, manager scripts, FAQs, email templates, intranet hub, region-specific benefit sheets.\n",
      "- Manager readiness: Mandatory briefing and live practice; guidance on difficult conversations; escalation paths.\n",
      "- Systems and logistics: Access change timing, payroll/severance setup, meeting invites prepared, outplacement vendor briefed.\n",
      "- Stakeholder prep: Board, key customers (under NDA\n"
     ]
    }
   ],
   "source": [
    "print(response['text'])"
   ]
  },
  {
   "cell_type": "code",
   "execution_count": 13,
   "id": "370b299a",
   "metadata": {},
   "outputs": [
    {
     "name": "stdout",
     "output_type": "stream",
     "text": [
      "gpt-5 R 2500tk medium flex \n",
      "Prompt: Plan the communication strategy for announcing a 20% workforce reduction due to automation implementation. Use Chain of Emotion methodology.\n",
      "Usage: 29 + 2497 = 2526\t 2¢\n"
     ]
    }
   ],
   "source": [
    "response = generate_response(model=\"gpt-5\",  effort=\"medium\",  prompt=\"Plan the communication strategy for announcing a 20% workforce reduction due to automation implementation. Use Chain of Emotion methodology.\", debug=True)\n"
   ]
  },
  {
   "cell_type": "code",
   "execution_count": null,
   "id": "9c561b97",
   "metadata": {},
   "outputs": [
    {
     "name": "stdout",
     "output_type": "stream",
     "text": [
      "gpt-5: 29 + 2497 = 2526\t2¢\n",
      "Below is a complete communication plan for announcing a 20% workforce reduction driven by automation, structured around the Chain of Emotion methodology. The aim is to guide each stakeholder through an intentional emotional progression—from shock to recommitment—while protecting dignity, compliance, and business continuity.\n",
      "\n",
      "1) What “Chain of Emotion” means here\n",
      "- A staged communication approach that anticipates and deliberately supports the emotional journey:\n",
      "  1. Shock: “What is happening?” → Contain panic; ensure clarity and safety.\n",
      "  2. Fear/Anger: “Why me/us?” → Validate feelings; explain fair process; give control through next steps.\n",
      "  3. Loss/Sadness: “We’re losing colleagues.” → Honor contributions; enable healthy closure.\n",
      "  4. Understanding: “How will we work now?” → Explain strategy, operating model, automation’s role.\n",
      "  5. Acceptance/Agency: “What can I do?” → Provide tools, training, and participation in redesign.\n",
      "  6. Recommitment/Hope: “I see the path.” → Share progress, wins, and future opportunities.\n",
      "\n",
      "2) Audiences and emotional baselines\n",
      "- Impacted employees: Highest shock/fear; need privacy, fairness, immediate support.\n",
      "- Remaining employees (“survivors”): Anxiety, guilt, workload worries; need clarity, direction, and voice.\n",
      "- People managers: Stress about delivering news; need training, scripts, and decision rationale.\n",
      "- Executives/Board: Reputation, legal, market risk; need a crisp narrative and synchronized timing.\n",
      "- Works councils/unions/regulators (where applicable): Compliance, consultation; need early, formal engagement.\n",
      "- Customers/partners/investors: Stability concerns; need assurance of continuity and benefits of automation.\n",
      "- Media/broader public: Narrative framing; need consistency and facts.\n",
      "\n",
      "3) Message architecture (simple message house)\n",
      "- Core message: We are implementing automation to improve quality, speed, and long-term sustainability. As a result, we are eliminating approximately 20% of roles. These are role eliminations, not performance actions. We are committed to treating everyone with respect and support.\n",
      "- Pillars:\n",
      "  1) Business necessity: Market realities and product/service goals require a different cost and operating model.\n",
      "  2) Fair process: Role-based criteria; legal/compliance steps; global equity; alternatives considered.\n",
      "  3) Human commitment: Competitive severance, benefits, outplacement, visa support, and time for transitions.\n",
      "  4) Future path: How work changes, what won’t change, reskilling, and where automation elevates roles.\n",
      "- Proof points: Demand and margin trends; benchmarking; automation pilots and outcomes; alternatives (hiring freezes, contractor reductions, redeployments) already attempted.\n",
      "\n",
      "4) Timeline and cadence (global)\n",
      "Pre-announce (T-21 to T-1 days)\n",
      "- T-21 to T-14: Legal/compliance scoping (WARN, works councils, unions, country notice, selection criteria validation for disparate impact). Stabilize severance design and benefits. Identify critical retention needs.\n",
      "- T-14 to T-7: Leadership alignment on narrative. Build manager toolkits and FAQs. Translate content. Prepare secure scheduling for 1:1 notifications. Begin subtle rumor monitoring. Confirm IT deprovisioning protocols timed to after conversations.\n",
      "- T-7 to T-3: Consult with works councils/unions as required. Media and investor messaging drafted, embargoed. Stage resourcing for outplacement and EAP.\n",
      "- T-3 to T-1: Manager training (live + recorded): how to deliver, handle emotions, and logistics. Dry-run of all-hands and Q&A. Finalize time-zone plan and room/virtual logistics.\n",
      "\n",
      "Announcement day (T0)\n",
      "- 08:00 local: Managers + HR begin private 1:1 notification meetings for impacted employees (15–20 min each) with printed/electronic packets. IT access ends after the meeting, not before. Provide time and space for goodbyes.\n",
      "- 2–3 hours later: CEO all-company note and all-hands for non-impacted employees. Reinforce respect for privacy; outline future model. Open AMA board for questions.\n",
      "- Shortly after internal comms: External note to investors/customers/press if applicable. Do not pre-empt employee communications.\n",
      "\n",
      "Post-announce (T+1 to T+90)\n",
      "- T+1 day: Survivor communication from function leaders on near-term workload, priorities, and what won’t change.\n",
      "- T+3–7 days: Team rituals to recognize departing colleagues (opt-in, privacy-aware). Publish operating model overview and automation roadmap. Launch listening sessions.\n",
      "- T+14 days: Publish skills/upskilling plan and role redesign. Share first progress metrics.\n",
      "- T+30–90 days: Regular updates on automation outcomes, quality improvements, and employee workload benefits. Pulse surveys and AMA follow-ups.\n",
      "\n",
      "5) Chain of Emotion in action: objectives, messages, and actions by stage\n",
      "1. Shock (T0)\n",
      "- Objective: Stop the rumor spiral; ensure every person knows how and when they’ll learn their status; protect dignity.\n",
      "- Messages: “Today we are eliminating ~20% of roles. You will hear your individual status privately today. If\n"
     ]
    }
   ],
   "source": [
    "print(response['text'])"
   ]
  },
  {
   "cell_type": "markdown",
   "id": "d39b3355",
   "metadata": {},
   "source": [
    "effort=\"high\" fails with this question, or just fails always?"
   ]
  },
  {
   "cell_type": "code",
   "execution_count": 20,
   "id": "7016df67",
   "metadata": {},
   "outputs": [
    {
     "name": "stdout",
     "output_type": "stream",
     "text": [
      "gpt-5 R 2500tk medium flex \n",
      "Prompt: Plan the communication strategy for announcing a 20% workforce reduction due to automation implementation. Use Chain of Emotion methodology.\n",
      "Response: Response(id='resp_68a794505f5081a38ec2c594b1757b5d0288e023e54948cc', created_at=1755812944.0, error=None, incomplete_details=None, instructions=None, metadata={}, model='gpt-5-2025-08-07', object='response', output=[ResponseReasoningItem(id='rs_68a79450a81081a3bc6613bb13a89f5a0288e023e54948cc', summary=[], type='reasoning', content=None, encrypted_content=None, status=None), ResponseOutputMessage(id='msg_68a7945c67b481a3b89af91e6afc87bf0288e023e54948cc', content=[ResponseOutputText(annotations=[], text='Below is a complete communication strategy to announce a 20% workforce reduction driven by automation, designed using a Chain of Emotion methodology. The approach maps the emotional journey of each audience and orchestrates messages, messengers, channels, timing, and proof to move people from shock to supported action with dignity and clarity.\\n\\n1) Goals and guardrails\\n- Goals: Inform impacted employees with empathy and clarity; retain trust among remaining staff; protect customers and brand; meet legal/ethical obligations; prevent rumor spirals; offer real support.\\n- Guardrails: Legal compliance across jurisdictions (WARN/mini-WARN, works councils/unions, notice periods, selection criteria documentation); zero surprises for managers; one source of truth; respectful tone; no spin that minimizes the impact.\\n\\n2) Chain of Emotion methodology\\n- Define the chain: For each audience, deliberately move emotions through stages:\\n  1. Anticipate: Map what they are likely to feel and fear.\\n  2. Acknowledge: Name and validate those emotions.\\n  3. Answer: Provide clear, concrete facts (what, why, who, when, how).\\n  4. Assist: Offer tangible support and immediate next steps.\\n  5. Anchor: Reinforce values, fairness, and the path forward.\\n  6. Activate: Enable action (e.g., access benefits, manager huddles, upskilling).\\n- For each stage, specify: Message, Messenger, Moment (timing), Channel, Proof/Artifacts, and Feedback loop.\\n\\n3) Audience-specific emotional chains and plans\\n\\nA) Impacted employees\\n- Anticipate: Shock, anger, fear, worry about finances/healthcare, identity loss.\\n- Acknowledge: “This is hard news. We know this impacts you and your family.”\\n- Answer: What’s changing; why automation is being introduced; selection criteria; exact last day; severance; benefits; outplacement; references; immigration/visa support if applicable.\\n- Assist: Immediate access to severance details, benefits continuation, outplacement firm, resume coaching, alumni network; private 1:1 manager + HR meeting; quiet room and time off option; written summary.\\n- Anchor: Commitment to fairness and dignity; transparency on process; appreciation for contributions; manager-provided recommendation statements.\\n- Activate: Step-by-step checklist; timelines; contact points; FAQs; follow-up 48-hour check-in.\\n- Messengers and channels: Direct manager + HR in a live 1:1 (onsite or secure video), followed by HR email and a resource microsite with unique login.\\n- Proof: Written severance agreement; documented selection criteria; consistent packages; signed leadership note of appreciation; alumni invite.\\n\\nB) Retained employees (“survivors”)\\n- Anticipate: Guilt, anxiety about stability, anger at leadership, uncertainty about workload and automation.\\n- Acknowledge: “Days like this are painful; it’s okay to have mixed feelings.”\\n- Answer: Business rationale; why 20% now; commitment against near-term repeat; how automation changes roles; workload balancing plan; hiring freeze/attrition decisions.\\n- Assist: Training and upskilling for new tools; role clarity; wellbeing resources; skip-level Q&A.\\n- Anchor: Strategy, KPIs, and how automation elevates work; codified focus areas; recognition for extra load during transition; psychological safety commitments.\\n- Activate: 30-60-90 day team plans; office hours with leaders; learning stipends; internal mobility options.\\n- Messengers and channels: CEO/executive broadcast after impacted notifications; manager-led small-group huddles; AMA with leadership; written FAQs; dedicated Slack/Teams channel moderated by HR/Comms.\\n- Proof: Published automation roadmap and training calendar; workload re-prioritization memo; pulse survey response and actioning.\\n\\nC) People managers\\n- Anticipate: Anxiety in delivering news; fear of inconsistency; moral distress.\\n- Acknowledge: “We’re asking you to do something difficult; we’ll equip you.”\\n- Answer: Exact scripts, dos/don’ts, legal boundaries, scenario FAQs, escalation paths.\\n- Assist: Live training/role-play; checklist; HR partner on-call; post-conversation debrief kit.\\n- Anchor: Clear decision rights; single source of truth; values-centered language.\\n- Activate: Dry runs; manager huddle cadence; template', type='output_text', logprobs=[])], role='assistant', status='completed', type='message')], parallel_tool_calls=True, temperature=1.0, tool_choice='auto', tools=[], top_p=1.0, background=False, max_output_tokens=2500, max_tool_calls=None, previous_response_id=None, prompt=None, prompt_cache_key='test_user', reasoning=Reasoning(effort='medium', generate_summary=None, summary=None), safety_identifier='test_user', service_tier='flex', status='completed', text=ResponseTextConfig(format=ResponseFormatText(type='text'), verbosity='medium'), top_logprobs=0, truncation='disabled', usage=ResponseUsage(input_tokens=29, input_tokens_details=InputTokensDetails(cached_tokens=0), output_tokens=2443, output_tokens_details=OutputTokensDetails(reasoning_tokens=1536), total_tokens=2472), user=None, store=True)\n",
      "Usage: 29 + 2443 = 2472\t 2¢\n"
     ]
    }
   ],
   "source": [
    "response = generate_response(model=\"gpt-5\",  effort=\"medium\",  prompt=\"Plan the communication strategy for announcing a 20% workforce reduction due to automation implementation. Use Chain of Emotion methodology.\", debug=True)"
   ]
  },
  {
   "cell_type": "code",
   "execution_count": null,
   "id": "545a2699",
   "metadata": {},
   "outputs": [
    {
     "name": "stdout",
     "output_type": "stream",
     "text": [
      "gpt-5: 29 + 2443 = 2472\t2¢\n",
      "Below is a complete communication strategy to announce a 20% workforce reduction driven by automation, designed using a Chain of Emotion methodology. The approach maps the emotional journey of each audience and orchestrates messages, messengers, channels, timing, and proof to move people from shock to supported action with dignity and clarity.\n",
      "\n",
      "1) Goals and guardrails\n",
      "- Goals: Inform impacted employees with empathy and clarity; retain trust among remaining staff; protect customers and brand; meet legal/ethical obligations; prevent rumor spirals; offer real support.\n",
      "- Guardrails: Legal compliance across jurisdictions (WARN/mini-WARN, works councils/unions, notice periods, selection criteria documentation); zero surprises for managers; one source of truth; respectful tone; no spin that minimizes the impact.\n",
      "\n",
      "2) Chain of Emotion methodology\n",
      "- Define the chain: For each audience, deliberately move emotions through stages:\n",
      "  1. Anticipate: Map what they are likely to feel and fear.\n",
      "  2. Acknowledge: Name and validate those emotions.\n",
      "  3. Answer: Provide clear, concrete facts (what, why, who, when, how).\n",
      "  4. Assist: Offer tangible support and immediate next steps.\n",
      "  5. Anchor: Reinforce values, fairness, and the path forward.\n",
      "  6. Activate: Enable action (e.g., access benefits, manager huddles, upskilling).\n",
      "- For each stage, specify: Message, Messenger, Moment (timing), Channel, Proof/Artifacts, and Feedback loop.\n",
      "\n",
      "3) Audience-specific emotional chains and plans\n",
      "\n",
      "A) Impacted employees\n",
      "- Anticipate: Shock, anger, fear, worry about finances/healthcare, identity loss.\n",
      "- Acknowledge: “This is hard news. We know this impacts you and your family.”\n",
      "- Answer: What’s changing; why automation is being introduced; selection criteria; exact last day; severance; benefits; outplacement; references; immigration/visa support if applicable.\n",
      "- Assist: Immediate access to severance details, benefits continuation, outplacement firm, resume coaching, alumni network; private 1:1 manager + HR meeting; quiet room and time off option; written summary.\n",
      "- Anchor: Commitment to fairness and dignity; transparency on process; appreciation for contributions; manager-provided recommendation statements.\n",
      "- Activate: Step-by-step checklist; timelines; contact points; FAQs; follow-up 48-hour check-in.\n",
      "- Messengers and channels: Direct manager + HR in a live 1:1 (onsite or secure video), followed by HR email and a resource microsite with unique login.\n",
      "- Proof: Written severance agreement; documented selection criteria; consistent packages; signed leadership note of appreciation; alumni invite.\n",
      "\n",
      "B) Retained employees (“survivors”)\n",
      "- Anticipate: Guilt, anxiety about stability, anger at leadership, uncertainty about workload and automation.\n",
      "- Acknowledge: “Days like this are painful; it’s okay to have mixed feelings.”\n",
      "- Answer: Business rationale; why 20% now; commitment against near-term repeat; how automation changes roles; workload balancing plan; hiring freeze/attrition decisions.\n",
      "- Assist: Training and upskilling for new tools; role clarity; wellbeing resources; skip-level Q&A.\n",
      "- Anchor: Strategy, KPIs, and how automation elevates work; codified focus areas; recognition for extra load during transition; psychological safety commitments.\n",
      "- Activate: 30-60-90 day team plans; office hours with leaders; learning stipends; internal mobility options.\n",
      "- Messengers and channels: CEO/executive broadcast after impacted notifications; manager-led small-group huddles; AMA with leadership; written FAQs; dedicated Slack/Teams channel moderated by HR/Comms.\n",
      "- Proof: Published automation roadmap and training calendar; workload re-prioritization memo; pulse survey response and actioning.\n",
      "\n",
      "C) People managers\n",
      "- Anticipate: Anxiety in delivering news; fear of inconsistency; moral distress.\n",
      "- Acknowledge: “We’re asking you to do something difficult; we’ll equip you.”\n",
      "- Answer: Exact scripts, dos/don’ts, legal boundaries, scenario FAQs, escalation paths.\n",
      "- Assist: Live training/role-play; checklist; HR partner on-call; post-conversation debrief kit.\n",
      "- Anchor: Clear decision rights; single source of truth; values-centered language.\n",
      "- Activate: Dry runs; manager huddle cadence; template\n"
     ]
    }
   ],
   "source": [
    "print(response['text'])"
   ]
  },
  {
   "cell_type": "code",
   "execution_count": 30,
   "id": "3c2b32ae",
   "metadata": {},
   "outputs": [
    {
     "name": "stdout",
     "output_type": "stream",
     "text": [
      "gpt-5 R 2500tk high flex \n",
      "Usage: 8 + 80 = 88\t 1/100¢\n"
     ]
    }
   ],
   "source": [
    "response = generate_response(model=\"gpt-5\",  effort=\"high\",  prompt=\"Hello?\", debug=True)\n"
   ]
  },
  {
   "cell_type": "code",
   "execution_count": null,
   "id": "851a8389",
   "metadata": {},
   "outputs": [
    {
     "name": "stdout",
     "output_type": "stream",
     "text": [
      "gpt-5: 8 + 80 = 88\t1/100¢\n",
      "Hi there! How can I help you today?\n"
     ]
    }
   ],
   "source": [
    "print(response['text'])"
   ]
  }
 ],
 "metadata": {
  "kernelspec": {
   "display_name": ".venv (3.13.1)",
   "language": "python",
   "name": "python3"
  },
  "language_info": {
   "codemirror_mode": {
    "name": "ipython",
    "version": 3
   },
   "file_extension": ".py",
   "mimetype": "text/x-python",
   "name": "python",
   "nbconvert_exporter": "python",
   "pygments_lexer": "ipython3",
   "version": "3.13.1"
  }
 },
 "nbformat": 4,
 "nbformat_minor": 5
}

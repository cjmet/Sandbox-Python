{
 "cells": [
  {
   "cell_type": "code",
   "execution_count": 4,
   "id": "e412e5b8",
   "metadata": {},
   "outputs": [
    {
     "name": "stdout",
     "output_type": "stream",
     "text": [
      "Features (first 5 rows):\n",
      "    sepal length (cm)  sepal width (cm)  petal length (cm)  petal width (cm)\n",
      "0                5.1               3.5                1.4               0.2\n",
      "1                4.9               3.0                1.4               0.2\n",
      "2                4.7               3.2                1.3               0.2\n",
      "3                4.6               3.1                1.5               0.2\n",
      "4                5.0               3.6                1.4               0.2\n",
      "Labels (first 5): [0 0 0 0 0]\n",
      "Label names: ['setosa' 'versicolor' 'virginica']\n"
     ]
    }
   ],
   "source": [
    "from sklearn.datasets import load_iris\n",
    "import pandas as pd\n",
    "\n",
    "# Load iris dataset (supervised: features with labels)\n",
    "iris = load_iris()\n",
    "data = pd.DataFrame(iris.data, columns=iris.feature_names)\n",
    "labels = iris.target\n",
    "target_names = iris.target_names\n",
    "\n",
    "# Display dataset info\n",
    "print(\"Features (first 5 rows):\\n\", data.head())\n",
    "print(\"Labels (first 5):\", labels[:5])\n",
    "print(\"Label names:\", target_names)"
   ]
  },
  {
   "cell_type": "code",
   "execution_count": 5,
   "id": "7bf7fcf5",
   "metadata": {},
   "outputs": [
    {
     "name": "stdout",
     "output_type": "stream",
     "text": [
      "Features (last 5 rows):\n",
      "      sepal length (cm)  sepal width (cm)  petal length (cm)  petal width (cm)\n",
      "145                6.7               3.0                5.2               2.3\n",
      "146                6.3               2.5                5.0               1.9\n",
      "147                6.5               3.0                5.2               2.0\n",
      "148                6.2               3.4                5.4               2.3\n",
      "149                5.9               3.0                5.1               1.8\n",
      "Labels (last 5): 2\n",
      "Label names: ['setosa' 'versicolor' 'virginica']\n"
     ]
    }
   ],
   "source": [
    "from sklearn.datasets import load_iris\n",
    "import pandas as pd\n",
    "\n",
    "# Load iris dataset (supervised: features with labels)\n",
    "iris = load_iris()\n",
    "data = pd.DataFrame(iris.data, columns=iris.feature_names)\n",
    "labels = iris.target\n",
    "target_names = iris.target_names\n",
    "\n",
    "# Display dataset info\n",
    "print(\"Features (last 5 rows):\\n\", data.tail())\n",
    "print(\"Labels (last 5):\", labels[-5])\n",
    "print(\"Label names:\", target_names)"
   ]
  }
 ],
 "metadata": {
  "kernelspec": {
   "display_name": "Python 3",
   "language": "python",
   "name": "python3"
  },
  "language_info": {
   "codemirror_mode": {
    "name": "ipython",
    "version": 3
   },
   "file_extension": ".py",
   "mimetype": "text/x-python",
   "name": "python",
   "nbconvert_exporter": "python",
   "pygments_lexer": "ipython3",
   "version": "3.13.1"
  }
 },
 "nbformat": 4,
 "nbformat_minor": 5
}

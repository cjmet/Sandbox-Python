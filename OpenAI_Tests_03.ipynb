{
 "cells": [
  {
   "cell_type": "code",
   "execution_count": 12,
   "id": "9967e22b",
   "metadata": {},
   "outputs": [
    {
     "name": "stdout",
     "output_type": "stream",
     "text": [
      "5.03¢\n"
     ]
    }
   ],
   "source": [
    "def generate_response(): None\n",
    "def divider(): None\n",
    "def get_global_settings_string(): None\n",
    "def cost_of_response(): None\n",
    "%run OpenAi.ipynb\n",
    "\n",
    "print(cost_of_response(\"gpt-5\", input_tokens=500, output_tokens=10000, flex=True))"
   ]
  },
  {
   "cell_type": "code",
   "execution_count": 13,
   "id": "03868577",
   "metadata": {},
   "outputs": [
    {
     "name": "stdout",
     "output_type": "stream",
     "text": [
      "gpt-5-nano R 2500tk minimal default \n",
      "Prompt: Hello! How are you today?\n",
      "Usage: 13 + 22 = 35\t 1/100,000¢\n",
      "Reasoning Prompt\n",
      "Prompt: Hello! How are you today?\n",
      "Response: Hello! I'm here and ready to help. How can I assist you today?\n",
      "\n",
      "--------------------------------------------------\n"
     ]
    }
   ],
   "source": [
    "# Example: Basic prompt\n",
    "# prompt = \"Develop a research paper on AI, a general overview, using 5000 to 10000 words\"\n",
    "prompt = \"Hello! How are you today?\"\n",
    "response = generate_response(prompt, debug=True)  \n",
    "print(\"Reasoning Prompt\")\n",
    "print(f\"Prompt: {prompt}\\nResponse: {response}\\n\")\n",
    "divider()\n"
   ]
  }
 ],
 "metadata": {
  "kernelspec": {
   "display_name": ".venv (3.13.1)",
   "language": "python",
   "name": "python3"
  },
  "language_info": {
   "codemirror_mode": {
    "name": "ipython",
    "version": 3
   },
   "file_extension": ".py",
   "mimetype": "text/x-python",
   "name": "python",
   "nbconvert_exporter": "python",
   "pygments_lexer": "ipython3",
   "version": "3.13.1"
  }
 },
 "nbformat": 4,
 "nbformat_minor": 5
}

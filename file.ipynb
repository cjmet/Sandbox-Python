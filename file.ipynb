{
 "cells": [
  {
   "cell_type": "code",
   "execution_count": 2,
   "metadata": {
    "polyglot_notebook": {
     "kernelName": "csharp"
    }
   },
   "outputs": [
    {
     "name": "stdout",
     "output_type": "stream",
     "text": [
      "Hello World!!! cjm\n",
      "Hello World!!! cjm\n",
      "Hello World!!! cjm\n",
      "Hello World!!! cjm\n"
     ]
    }
   ],
   "source": [
    "message = \"Hello World!!!\"\n",
    "name = input(\"Enter your name: \")\n",
    "print(message, name)\n",
    "print(f\"{message} {name}\") # f-string formatting\n",
    "print(\"{} {}\".format(message, name)) # format method\n",
    "print(\"%s %s\" % (message, name)) # old style formatting\n",
    "\n"
   ]
  }
 ],
 "metadata": {
  "kernelspec": {
   "display_name": "Python 3",
   "language": "python",
   "name": "python3"
  },
  "language_info": {
   "codemirror_mode": {
    "name": "ipython",
    "version": 3
   },
   "file_extension": ".py",
   "mimetype": "text/x-python",
   "name": "python",
   "nbconvert_exporter": "python",
   "pygments_lexer": "ipython3",
   "version": "3.13.1"
  },
  "polyglot_notebook": {
   "kernelInfo": {
    "defaultKernelName": "csharp",
    "items": [
     {
      "aliases": [],
      "name": "csharp"
     }
    ]
   }
  }
 },
 "nbformat": 4,
 "nbformat_minor": 2
}

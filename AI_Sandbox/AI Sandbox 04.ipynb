{
 "cells": [
  {
   "cell_type": "markdown",
   "id": "cec31d31",
   "metadata": {},
   "source": [
    "# Advanced AI\n",
    "https://github.com/RamaKattunga/AdvAIClass.git\n"
   ]
  },
  {
   "cell_type": "code",
   "execution_count": 8,
   "id": "b1338c74",
   "metadata": {},
   "outputs": [],
   "source": [
    "import pandas as pd\n",
    "import numpy as np\n",
    "import yfinance as yf"
   ]
  },
  {
   "cell_type": "code",
   "execution_count": 9,
   "id": "d52f5f52",
   "metadata": {},
   "outputs": [
    {
     "name": "stdout",
     "output_type": "stream",
     "text": [
      "Step 1a: Titanic dataset loaded with 891 passengers and 12 columns.\n"
     ]
    }
   ],
   "source": [
    "# --- Section 1: Loading Data from Online Sources ---\n",
    "# Load the Titanic dataset from a GitHub URL, a popular dataset for learning\n",
    "url = 'https://raw.githubusercontent.com/datasciencedojo/datasets/master/titanic.csv'\n",
    "df_titanic = pd.read_csv(url)\n",
    "print(\"Step 1a: Titanic dataset loaded with\", df_titanic.shape[0], \"passengers and\", df_titanic.shape[1], \"columns.\")"
   ]
  },
  {
   "cell_type": "code",
   "execution_count": 10,
   "id": "431a2d5e",
   "metadata": {},
   "outputs": [
    {
     "name": "stdout",
     "output_type": "stream",
     "text": [
      "Step 1b: Apple stock data loaded with 756 days and 5 columns.\n"
     ]
    },
    {
     "name": "stderr",
     "output_type": "stream",
     "text": [
      "C:\\Users\\khaai\\AppData\\Local\\Temp\\ipykernel_19732\\2628451526.py:2: FutureWarning: YF.download() has changed argument auto_adjust default to True\n",
      "  df_stock = yf.download('AAPL', start='2020-01-01', end='2023-01-01', progress=False)\n"
     ]
    }
   ],
   "source": [
    "# Fetch Apple stock data from 2020 to 2023 using yfinance for time series practice\n",
    "df_stock = yf.download('AAPL', start='2020-01-01', end='2023-01-01', progress=False)\n",
    "print(\"Step 1b: Apple stock data loaded with\", df_stock.shape[0], \"days and\", df_stock.shape[1], \"columns.\")"
   ]
  },
  {
   "cell_type": "code",
   "execution_count": 11,
   "id": "dd1f8646",
   "metadata": {},
   "outputs": [
    {
     "name": "stdout",
     "output_type": "stream",
     "text": [
      "\n",
      "Step 2a: First 5 rows of Titanic dataset:\n",
      "   PassengerId  Survived  Pclass                                               Name     Sex   Age  SibSp  Parch            Ticket     Fare Cabin Embarked\n",
      "0            1         0       3                            Braund, Mr. Owen Harris    male  22.0      1      0         A/5 21171   7.2500   NaN        S\n",
      "1            2         1       1  Cumings, Mrs. John Bradley (Florence Briggs Th...  female  38.0      1      0          PC 17599  71.2833   C85        C\n",
      "2            3         1       3                             Heikkinen, Miss. Laina  female  26.0      0      0  STON/O2. 3101282   7.9250   NaN        S\n",
      "3            4         1       1       Futrelle, Mrs. Jacques Heath (Lily May Peel)  female  35.0      1      0            113803  53.1000  C123        S\n",
      "4            5         0       3                           Allen, Mr. William Henry    male  35.0      0      0            373450   8.0500   NaN        S\n"
     ]
    }
   ],
   "source": [
    "# --- Section 2: Data Inspection ---\n",
    "# Display the first 5 rows of the Titanic dataset to understand its structure\n",
    "pd.set_option('display.width', 1000)\n",
    "print(\"\\nStep 2a: First 5 rows of Titanic dataset:\")\n",
    "print(df_titanic.head())"
   ]
  },
  {
   "cell_type": "code",
   "execution_count": 12,
   "id": "5eb7dec5",
   "metadata": {},
   "outputs": [
    {
     "name": "stdout",
     "output_type": "stream",
     "text": [
      "\n",
      "Step 2b: Titanic DataFrame Info:\n",
      "<class 'pandas.core.frame.DataFrame'>\n",
      "RangeIndex: 891 entries, 0 to 890\n",
      "Data columns (total 12 columns):\n",
      " #   Column       Non-Null Count  Dtype  \n",
      "---  ------       --------------  -----  \n",
      " 0   PassengerId  891 non-null    int64  \n",
      " 1   Survived     891 non-null    int64  \n",
      " 2   Pclass       891 non-null    int64  \n",
      " 3   Name         891 non-null    object \n",
      " 4   Sex          891 non-null    object \n",
      " 5   Age          714 non-null    float64\n",
      " 6   SibSp        891 non-null    int64  \n",
      " 7   Parch        891 non-null    int64  \n",
      " 8   Ticket       891 non-null    object \n",
      " 9   Fare         891 non-null    float64\n",
      " 10  Cabin        204 non-null    object \n",
      " 11  Embarked     889 non-null    object \n",
      "dtypes: float64(2), int64(5), object(5)\n",
      "memory usage: 83.7+ KB\n",
      "None\n"
     ]
    }
   ],
   "source": [
    "# Show DataFrame info (column names, data types, non-null counts)\n",
    "print(\"\\nStep 2b: Titanic DataFrame Info:\")\n",
    "print(df_titanic.info())"
   ]
  },
  {
   "cell_type": "code",
   "execution_count": 13,
   "id": "592e80aa",
   "metadata": {},
   "outputs": [
    {
     "name": "stdout",
     "output_type": "stream",
     "text": [
      "\n",
      "Step 2c: Titanic Summary Statistics:\n",
      "       PassengerId    Survived      Pclass         Age       SibSp       Parch        Fare\n",
      "count   891.000000  891.000000  891.000000  714.000000  891.000000  891.000000  891.000000\n",
      "mean    446.000000    0.383838    2.308642   29.699118    0.523008    0.381594   32.204208\n",
      "std     257.353842    0.486592    0.836071   14.526497    1.102743    0.806057   49.693429\n",
      "min       1.000000    0.000000    1.000000    0.420000    0.000000    0.000000    0.000000\n",
      "25%     223.500000    0.000000    2.000000   20.125000    0.000000    0.000000    7.910400\n",
      "50%     446.000000    0.000000    3.000000   28.000000    0.000000    0.000000   14.454200\n",
      "75%     668.500000    1.000000    3.000000   38.000000    1.000000    0.000000   31.000000\n",
      "max     891.000000    1.000000    3.000000   80.000000    8.000000    6.000000  512.329200\n"
     ]
    }
   ],
   "source": [
    "# Display summary statistics for numerical columns (count, mean, std, etc.)\n",
    "print(\"\\nStep 2c: Titanic Summary Statistics:\")\n",
    "print(df_titanic.describe())"
   ]
  }
 ],
 "metadata": {
  "kernelspec": {
   "display_name": "Python 3",
   "language": "python",
   "name": "python3"
  },
  "language_info": {
   "codemirror_mode": {
    "name": "ipython",
    "version": 3
   },
   "file_extension": ".py",
   "mimetype": "text/x-python",
   "name": "python",
   "nbconvert_exporter": "python",
   "pygments_lexer": "ipython3",
   "version": "3.13.1"
  }
 },
 "nbformat": 4,
 "nbformat_minor": 5
}

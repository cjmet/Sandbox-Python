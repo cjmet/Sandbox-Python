{
 "cells": [
  {
   "cell_type": "code",
   "execution_count": 50,
   "id": "035656df",
   "metadata": {},
   "outputs": [],
   "source": [
    "import numpy as np"
   ]
  },
  {
   "cell_type": "code",
   "execution_count": 51,
   "id": "e6b97ffc",
   "metadata": {},
   "outputs": [],
   "source": [
    "# Simulated data: Word presence in emails (1 = present, 0 = absent)\n",
    "# Features: [urgent, free, click, meeting]\n",
    "data = np.array([\n",
    "    [1, 1, 1, 0, 1],  # urgent, free, click, no meeting → spam\n",
    "    [0, 0, 0, 1, 0],  # no urgent, no free, no click, meeting → not spam\n",
    "    [1, 0, 1, 0, 1],  # urgent, no free, click, no meeting → spam\n",
    "    [0, 0, 0, 1, 0],  # no urgent, no free, no click, meeting → not spam\n",
    "    [1, 1, 0, 0, 1],  # urgent, free, no click, no meeting → spam\n",
    "    [0, 0, 1, 1, 0],  # no urgent, no free, click, meeting → not spam\n",
    "])"
   ]
  },
  {
   "cell_type": "code",
   "execution_count": 52,
   "id": "ad641d60",
   "metadata": {},
   "outputs": [
    {
     "name": "stdout",
     "output_type": "stream",
     "text": [
      "Features (urgent, free, click, meeting): [[1 1 1 0]\n",
      " [0 0 0 1]\n",
      " [1 0 1 0]\n",
      " [0 0 0 1]\n",
      " [1 1 0 0]\n",
      " [0 0 1 1]]\n",
      "Labels (1=spam, 0=not spam): [1 0 1 0 1 0]\n"
     ]
    }
   ],
   "source": [
    "X = data[:, :-1]  # Features (first 4 columns)\n",
    "y = data[:, -1:] # Labels (last column, keep as column vector)\n",
    "\n",
    "\n",
    "print(\"Features (urgent, free, click, meeting):\", X)\n",
    "print(\"Labels (1=spam, 0=not spam):\", y.flatten())"
   ]
  },
  {
   "cell_type": "code",
   "execution_count": 53,
   "id": "840d820b",
   "metadata": {},
   "outputs": [
    {
     "name": "stdout",
     "output_type": "stream",
     "text": [
      "Training data:\n",
      "Features (urgent, free, click, meeting): [[1 1 1 0]\n",
      " [0 0 0 1]\n",
      " [1 0 1 0]\n",
      " [0 0 0 1]\n",
      " [1 1 0 0]\n",
      " [0 0 1 1]]\n",
      "Labels (1=spam, 0=not spam): [1 0 1 0 1 0]\n"
     ]
    }
   ],
   "source": [
    "print(\"Training data:\")\n",
    "print(\"Features (urgent, free, click, meeting):\", X)\n",
    "print(\"Labels (1=spam, 0=not spam):\", y.flatten())"
   ]
  },
  {
   "cell_type": "code",
   "execution_count": 54,
   "id": "7ace6ba7",
   "metadata": {},
   "outputs": [],
   "source": [
    "# Neural Network Architecture: 4 inputs → 3 hidden neurons → 1 output\n",
    "np.random.seed(42)  # For reproducibility"
   ]
  },
  {
   "cell_type": "code",
   "execution_count": 55,
   "id": "45e4f008",
   "metadata": {},
   "outputs": [],
   "source": [
    "# Layer 1: Input to Hidden (4 inputs, 3 hidden neurons)\n",
    "weights_hidden = np.random.rand(4, 3) * 0.5\n",
    "bias_hidden = np.random.rand(1, 3) * 0.5\n",
    "\n",
    "# Layer 2: Hidden to Output (3 hidden neurons, 1 output)\n",
    "weights_output = np.random.rand(3, 1) * 0.5\n",
    "bias_output = np.random.rand(1, 1) * 0.5"
   ]
  },
  {
   "cell_type": "code",
   "execution_count": 56,
   "id": "0fee4aa9",
   "metadata": {},
   "outputs": [],
   "source": [
    "\n",
    "def sigmoid(z):\n",
    "    return 1 / (1 + np.exp(-np.clip(z, -500, 500)))  # Clip to prevent overflow\n",
    "\n",
    "def sigmoid_derivative(z):\n",
    "    return z * (1 - z)\n",
    "\n"
   ]
  },
  {
   "cell_type": "code",
   "execution_count": 57,
   "id": "5ac59312",
   "metadata": {},
   "outputs": [
    {
     "name": "stdout",
     "output_type": "stream",
     "text": [
      "\n",
      "Training the neural network...\n",
      "Epoch 0, Loss: 0.2651\n",
      "Epoch 200, Loss: 0.0035\n",
      "Epoch 400, Loss: 0.0013\n",
      "Epoch 600, Loss: 0.0008\n",
      "Epoch 800, Loss: 0.0006\n",
      "\n",
      "Training complete!\n"
     ]
    }
   ],
   "source": [
    "learning_rate = 0.5\n",
    "print(\"\\nTraining the neural network...\")\n",
    "\n",
    "# Training loop\n",
    "for epoch in range(1000):\n",
    "    # Forward propagation\n",
    "    # Hidden layer\n",
    "    hidden_input = np.dot(X, weights_hidden) + bias_hidden\n",
    "    hidden_output = sigmoid(hidden_input)\n",
    "    \n",
    "    # Output layer\n",
    "    output_input = np.dot(hidden_output, weights_output) + bias_output\n",
    "    final_output = sigmoid(output_input)\n",
    "    \n",
    "    # Calculate error\n",
    "    error = y - final_output\n",
    "    \n",
    "    # Backward propagation\n",
    "    # Output layer gradients\n",
    "    output_error = error * sigmoid_derivative(final_output)\n",
    "    \n",
    "    # Hidden layer gradients\n",
    "    hidden_error = output_error.dot(weights_output.T) * sigmoid_derivative(hidden_output)\n",
    "    \n",
    "    # Update weights and biases\n",
    "    weights_output += hidden_output.T.dot(output_error) * learning_rate\n",
    "    bias_output += np.sum(output_error, axis=0, keepdims=True) * learning_rate\n",
    "    \n",
    "    weights_hidden += X.T.dot(hidden_error) * learning_rate\n",
    "    bias_hidden += np.sum(hidden_error, axis=0, keepdims=True) * learning_rate\n",
    "    \n",
    "    # Print progress every 200 epochs\n",
    "    if epoch % 200 == 0:\n",
    "        loss = np.mean(error**2)\n",
    "        print(f\"Epoch {epoch}, Loss: {loss:.4f}\")\n",
    "\n",
    "\n",
    "print(\"\\nTraining complete!\")\n"
   ]
  },
  {
   "cell_type": "code",
   "execution_count": 58,
   "id": "546363cd",
   "metadata": {},
   "outputs": [
    {
     "name": "stdout",
     "output_type": "stream",
     "text": [
      "\n",
      "Testing on training data:\n",
      "Email 1: [1 1 1 0] → Actual: 1, Predicted: 0.985 (SPAM)\n",
      "Email 2: [0 0 0 1] → Actual: 0, Predicted: 0.018 (NOT SPAM)\n",
      "Email 3: [1 0 1 0] → Actual: 1, Predicted: 0.975 (SPAM)\n",
      "Email 4: [0 0 0 1] → Actual: 0, Predicted: 0.018 (NOT SPAM)\n",
      "Email 5: [1 1 0 0] → Actual: 1, Predicted: 0.981 (SPAM)\n",
      "Email 6: [0 0 1 1] → Actual: 0, Predicted: 0.026 (NOT SPAM)\n"
     ]
    }
   ],
   "source": [
    "# Test the trained network\n",
    "print(\"\\nTesting on training data:\")\n",
    "hidden_output = sigmoid(np.dot(X, weights_hidden) + bias_hidden)\n",
    "final_output = sigmoid(np.dot(hidden_output, weights_output) + bias_output)\n",
    "\n",
    "\n",
    "for i in range(len(X)):\n",
    "    features = X[i]\n",
    "    actual = y[i][0]\n",
    "    predicted = final_output[i][0]\n",
    "    prediction = \"SPAM\" if predicted > 0.5 else \"NOT SPAM\"\n",
    "    print(f\"Email {i+1}: {features} → Actual: {actual}, Predicted: {predicted:.3f} ({prediction})\")"
   ]
  },
  {
   "cell_type": "code",
   "execution_count": 59,
   "id": "8fcc7dc6",
   "metadata": {},
   "outputs": [
    {
     "name": "stdout",
     "output_type": "stream",
     "text": [
      "\n",
      "Testing on new emails:\n",
      "New email 1: [1 1 1 0] → 0.985 (SPAM)\n",
      "New email 2: [0 0 0 1] → 0.018 (NOT SPAM)\n",
      "New email 3: [1 0 0 1] → 0.198 (NOT SPAM)\n"
     ]
    }
   ],
   "source": [
    "# Test on new data\n",
    "print(\"\\nTesting on new emails:\")\n",
    "test_cases = [\n",
    "    [1, 1, 1, 0],  # urgent, free, click, no meeting\n",
    "    [0, 0, 0, 1],  # no urgent, no free, no click, meeting\n",
    "    [1, 0, 0, 1],  # urgent, no free, no click, meeting\n",
    "]\n",
    "\n",
    "for i, test_input in enumerate(test_cases):\n",
    "    test_input = np.array(test_input).reshape(1, -1)\n",
    "    hidden_output = sigmoid(np.dot(test_input, weights_hidden) + bias_hidden)\n",
    "    prediction = sigmoid(np.dot(hidden_output, weights_output) + bias_output)[0][0]\n",
    "    result = \"SPAM\" if prediction > 0.5 else \"NOT SPAM\"\n",
    "    print(f\"New email {i+1}: {test_input[0]} → {prediction:.3f} ({result})\")"
   ]
  }
 ],
 "metadata": {
  "kernelspec": {
   "display_name": "Python 3",
   "language": "python",
   "name": "python3"
  },
  "language_info": {
   "codemirror_mode": {
    "name": "ipython",
    "version": 3
   },
   "file_extension": ".py",
   "mimetype": "text/x-python",
   "name": "python",
   "nbconvert_exporter": "python",
   "pygments_lexer": "ipython3",
   "version": "3.13.1"
  }
 },
 "nbformat": 4,
 "nbformat_minor": 5
}

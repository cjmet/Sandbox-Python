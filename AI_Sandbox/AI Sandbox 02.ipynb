{
 "cells": [
  {
   "cell_type": "markdown",
   "id": "78d71ef9",
   "metadata": {},
   "source": [
    "# Week 7 - Continued\n"
   ]
  },
  {
   "cell_type": "code",
   "execution_count": null,
   "id": "6e55da66",
   "metadata": {},
   "outputs": [],
   "source": [
    "# print all uppercase letters using string.ascii_uppercase.\n",
    "import string\n",
    "def print_uppercase():\n",
    "    print(string.ascii_uppercase)\n",
    "\n",
    "print_uppercase()\n",
    "\n",
    "# Create a function that adds two fractions using fractions.Fraction and returns their sum.\n",
    "def add_fractions(fraction1, fraction2):\n",
    "    from fractions import Fraction\n",
    "    f1 = Fraction(fraction1)\n",
    "    f2 = Fraction(fraction2)\n",
    "\n",
    "    value =  f1 + f2\n",
    "    return value\n",
    "\n",
    "print(add_fractions('1/2', '1/3'))"
   ]
  },
  {
   "cell_type": "code",
   "execution_count": null,
   "id": "f71a235d",
   "metadata": {},
   "outputs": [],
   "source": [
    "# Generate a random password of length X using random and string modules.\n",
    "import random\n",
    "import string\n",
    "def generate_password(length):\n",
    "    characters = string.ascii_letters + string.digits + string.punctuation\n",
    "\n",
    "    while True:\n",
    "        # Start with a letter\n",
    "        password = random.choice(string.ascii_letters)\n",
    "        # then whatever .. \n",
    "        password += ''.join(random.choice(characters) for _ in range(length))\n",
    "        # Ensure the password contains at least one digit, one lowercase letter, one uppercase letter, and one special character\n",
    "        if (any(c.isdigit() for c in password) and\n",
    "            any(c.islower() for c in password) and\n",
    "            any(c.isupper() for c in password) and\n",
    "            any(c in string.punctuation for c in password)):\n",
    "            break\n",
    "        \n",
    "    return password\n",
    "\n",
    "passwords = [generate_password(20) for _ in range(12)]\n",
    "# Print the generated passwords, 3 per line\n",
    "for i in range(0, len(passwords), 3):\n",
    "    print(\" | \".join(passwords[i:i+3]))\n"
   ]
  },
  {
   "cell_type": "code",
   "execution_count": null,
   "id": "cf66f421",
   "metadata": {},
   "outputs": [],
   "source": [
    "# Roll X sided die\n",
    "import random\n",
    "def roll_die(sides):\n",
    "    return random.randint(1, sides)\n",
    "\n",
    "rolls = [roll_die(6) for _ in range(10)]\n",
    "print(rolls)"
   ]
  },
  {
   "cell_type": "code",
   "execution_count": null,
   "id": "a49b18f2",
   "metadata": {},
   "outputs": [],
   "source": [
    "# \"K:\\Library\\Reference\\Word Lists\\english-words\\words_dictionary.json\"\n",
    "# Read a JSON file of words and return a list of words that are at least X characters long.\n",
    "import json\n",
    "def read_words(file_path, length):\n",
    "    with open(file_path, 'r') as file:\n",
    "        words = json.load(file)\n",
    "    return [word for word in words if len(word) >= length]\n",
    "\n",
    "print(read_words(\"K:\\\\Library\\\\Reference\\\\Word Lists\\\\english-words\\\\words_dictionary.json\", 29))\n"
   ]
  },
  {
   "cell_type": "code",
   "execution_count": 5,
   "id": "b5f200ed",
   "metadata": {},
   "outputs": [
    {
     "name": "stdout",
     "output_type": "stream",
     "text": [
      "HUp!3360 | IbH!2138 | Ehs!4183\n",
      "iDN!2926 | mCs!6527 | lwR!9550\n",
      "epO!3971 | pAO!9913 | fhY!9904\n",
      "aAUS!2794 | BWzWi!3130 | RemIcO!6395\n",
      "fLsPiNT!1319 | OvMauNEn!6572 | inTpaSSan!1664\n",
      "arCpOrhuMp!5086 | InlyoKFigoV!4776 | viTabarRUnhe!9364\n",
      "irrErhoDHypos!7994 | unVoProsdiSvre!2740 | sUbcacaTatasseM!5853\n"
     ]
    }
   ],
   "source": [
    "# \"K:\\Library\\Reference\\Word Lists\\english-words\\words_dictionary.json\"\n",
    "# Read a JSON file of words and \n",
    "# Create a password using substrings of words\n",
    "# use at least 3 words\n",
    "# then append \"!\" and a 4 digit number.\n",
    "import json \n",
    "import random\n",
    "import string\n",
    "debug = False\n",
    "\n",
    "def create_password_from_words( length=20, file_path=\"K:\\\\Library\\\\Reference\\\\Word Lists\\\\english-words\\\\words_dictionary.json\"):\n",
    "    if length < 8:\n",
    "        raise ValueError(\"Password length must be at least 8 characters.\")\n",
    "    with open(file_path, 'r') as file:\n",
    "        # the words are the keys in the json file\n",
    "        # read the keys into a list\n",
    "        words = list(json.load(file).keys())\n",
    "\n",
    "        password = \"\"\n",
    "        sub_size = (length - 5) // 3\n",
    "        while True:\n",
    "            # pick a random word\n",
    "            word = random.choice(words)\n",
    "            # pick a random substring of the word\n",
    "            end = min(len(word), sub_size)\n",
    "            substring = word[:end]     \n",
    "\n",
    "            # capitalize the a random letter in the substring\n",
    "            # pick a random index in the substring\n",
    "            index = random.randint(0, len(substring) - 1)\n",
    "            # capitalize the letter at the index, ick I dislike this syntax.\n",
    "            if sub_size > 1 or random.randint(0, 1) == 1:\n",
    "                substring = substring[:index] + substring[index].upper() + substring[index + 1:]\n",
    "\n",
    "            print (f\"Build: {password} + {substring} from {word}\") if debug else None\n",
    "            password += substring\n",
    "            if len(password) >= length - 5:\n",
    "                # truncate so it's the exact length\n",
    "                password = password[:length - 5]\n",
    "                # pick a random 4 digit number\n",
    "                password += \"!\" + str(random.randint(1000, 9999))\n",
    "                if (any(c.isdigit() for c in password) and\n",
    "                    any(c.islower() for c in password) and\n",
    "                    any(c.isupper() for c in password) and\n",
    "                    any(c in string.punctuation for c in password)):\n",
    "                    print (f\"Passd: {password} ({len(password)})\\n\") if debug else None\n",
    "                    break\n",
    "                else:\n",
    "                    print (f\"Faild: {password}\") if debug else None\n",
    "                    password = \"\"\n",
    "\n",
    "        return password\n",
    "\n",
    "passwords = [create_password_from_words(max(8,i)) for i in range(21)]\n",
    "# Print the generated passwords, 3 per line\n",
    "for i in range(0, len(passwords), 3):\n",
    "    print(\" | \".join(passwords[i:i+3]))\n",
    "\n"
   ]
  }
 ],
 "metadata": {
  "kernelspec": {
   "display_name": "Python 3",
   "language": "python",
   "name": "python3"
  },
  "language_info": {
   "codemirror_mode": {
    "name": "ipython",
    "version": 3
   },
   "file_extension": ".py",
   "mimetype": "text/x-python",
   "name": "python",
   "nbconvert_exporter": "python",
   "pygments_lexer": "ipython3",
   "version": "3.13.1"
  }
 },
 "nbformat": 4,
 "nbformat_minor": 5
}

{
 "cells": [
  {
   "cell_type": "markdown",
   "id": "1ad43100",
   "metadata": {},
   "source": [
    "# This week in AI"
   ]
  },
  {
   "cell_type": "code",
   "execution_count": null,
   "id": "c30ed625",
   "metadata": {},
   "outputs": [],
   "source": [
    "import pandas as pd\n",
    "import nltk\n",
    "from nltk.corpus import stopwords\n",
    "from nltk.tokenize import word_tokenize\n",
    "from nltk.stem import WordNetLemmatizer\n",
    "from sklearn.model_selection import train_test_split\n",
    "from sklearn.feature_extraction.text import TfidfVectorizer\n",
    "from sklearn.linear_model import LogisticRegression\n",
    "from sklearn.metrics import accuracy_score, classification_report\n",
    "import re\n"
   ]
  },
  {
   "cell_type": "code",
   "execution_count": null,
   "id": "a42e659f",
   "metadata": {},
   "outputs": [],
   "source": [
    "# Download NLTK resources\n",
    "nltk.download('punkt')\n",
    "nltk.download('stopwords')\n",
    "nltk.download('wordnet')\n"
   ]
  },
  {
   "cell_type": "code",
   "execution_count": null,
   "id": "3e5e9f39",
   "metadata": {},
   "outputs": [],
   "source": [
    "data = pd.read_csv('kindle_reviews.csv')\n",
    "data.head()"
   ]
  },
  {
   "cell_type": "code",
   "execution_count": null,
   "id": "c98d185f",
   "metadata": {},
   "outputs": [],
   "source": [
    "# Preprocess text\n",
    "stop_words = set(stopwords.words('english'))\n",
    "lemmatizer = WordNetLemmatizer()\n"
   ]
  },
  {
   "cell_type": "code",
   "execution_count": null,
   "id": "81cc9e89",
   "metadata": {},
   "outputs": [],
   "source": [
    "\n",
    "def preprocess_text(text):\n",
    "    # Handle non-string inputs\n",
    "    if not isinstance(text, str):\n",
    "        return \"\"\n",
    "    # Convert to lowercase and remove punctuation\n",
    "    text = re.sub(r'[^\\w\\s]', '', text.lower())\n",
    "    # Tokenize\n",
    "    words = word_tokenize(text)\n",
    "    # Remove stop words and lemmatize\n",
    "    words = [lemmatizer.lemmatize(word) for word in words if word not in stop_words]\n",
    "    return ' '.join(words)\n"
   ]
  },
  {
   "cell_type": "code",
   "execution_count": null,
   "id": "13cca7b8",
   "metadata": {},
   "outputs": [],
   "source": [
    "# Apply preprocessing\n",
    "data['cleaned_review'] = data['reviewText'].apply(preprocess_text)\n",
    "\n",
    "# Create sentiment labels: 1-2 stars = negative (0), 4-5 stars = positive (1)\n",
    "data['sentiment'] = data['overall'].apply(lambda x: 0 if x <= 2 else 1 if x >= 4 else -1)\n",
    "data = data[data['sentiment'] != -1] # Remove neutral reviews\n",
    "\n",
    "# Split data into training and testing sets\n",
    "X_train, X_test, y_train, y_test = train_test_split(\n",
    " data['cleaned_review'], data['sentiment'], test_size=0.2, random_state=42\n",
    ")\n",
    "\n",
    "# Convert text to TF-IDF features\n",
    "vectorizer = TfidfVectorizer(max_features=5000)\n",
    "X_train_tfidf = vectorizer.fit_transform(X_train)\n",
    "X_test_tfidf = vectorizer.transform(X_test)\n"
   ]
  },
  {
   "cell_type": "code",
   "execution_count": null,
   "id": "951e3f80",
   "metadata": {},
   "outputs": [],
   "source": [
    "# Train the logistic regression model\n",
    "model = LogisticRegression(max_iter=1000)\n",
    "model.fit(X_train_tfidf, y_train)\n",
    "\n",
    "# Make predictions and evaluate\n",
    "predictions = model.predict(X_test_tfidf)\n",
    "print(\"Accuracy:\", accuracy_score(y_test, predictions))\n",
    "print(\"Detailed Report:\\n\", classification_report(y_test, predictions))\n",
    "\n",
    "# Optional: Display important words\n",
    "feature_names = vectorizer.get_feature_names_out()\n",
    "coefficients = model.coef_[0]\n",
    "word_importance = pd.DataFrame({'word': feature_names, 'coefficient': coefficients})\n",
    "print(\"\\nTop 5 Positive Words:\")\n",
    "print(word_importance.sort_values(by='coefficient', ascending=False).head())\n",
    "print(\"\\nTop 5 Negative Words:\")\n",
    "print(word_importance.sort_values(by='coefficient').head())\n"
   ]
  },
  {
   "cell_type": "code",
   "execution_count": 19,
   "id": "e23df5fa",
   "metadata": {},
   "outputs": [
    {
     "data": {
      "image/png": "[encoded data removed]",
      "text/plain": [
       "<Figure size 800x500 with 1 Axes>"
      ]
     },
     "metadata": {},
     "output_type": "display_data"
    }
   ],
   "source": [
    "import matplotlib.pyplot as plt\n",
    "\n",
    "# Count the number of reviews for each star rating\n",
    "star_counts = data['overall'].value_counts().sort_index()\n",
    "\n",
    "# Plot the distribution\n",
    "plt.figure(figsize=(8, 5))\n",
    "star_counts.plot(kind='bar', color='skyblue')\n",
    "plt.xlabel('Star Rating')\n",
    "plt.ylabel('Number of Reviews')\n",
    "plt.title('Distribution of Reviews by Star Rating')\n",
    "plt.xticks(rotation=0)\n",
    "plt.show()"
   ]
  },
  {
   "cell_type": "code",
   "execution_count": 20,
   "id": "6a75f182",
   "metadata": {},
   "outputs": [
    {
     "data": {
      "text/plain": [
       "overall\n",
       "1     23018\n",
       "2     34130\n",
       "4    254013\n",
       "5    575264\n",
       "Name: count, dtype: int64"
      ]
     },
     "execution_count": 20,
     "metadata": {},
     "output_type": "execute_result"
    }
   ],
   "source": [
    "data['overall'].value_counts().sort_index()"
   ]
  }
 ],
 "metadata": {
  "kernelspec": {
   "display_name": "Python 3",
   "language": "python",
   "name": "python3"
  },
  "language_info": {
   "codemirror_mode": {
    "name": "ipython",
    "version": 3
   },
   "file_extension": ".py",
   "mimetype": "text/x-python",
   "name": "python",
   "nbconvert_exporter": "python",
   "pygments_lexer": "ipython3",
   "version": "3.13.1"
  }
 },
 "nbformat": 4,
 "nbformat_minor": 5
}

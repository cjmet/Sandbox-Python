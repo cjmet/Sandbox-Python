{
 "cells": [
  {
   "cell_type": "code",
   "execution_count": 1,
   "id": "85eb2937",
   "metadata": {},
   "outputs": [
    {
     "name": "stdout",
     "output_type": "stream",
     "text": [
      "Ah, the ultimate question! As a helpful AI built by xAI (and inspired by the likes of the Hitchhiker's Guide to the Galaxy), I must first direct you to the wisdom of Douglas Adams: in his timeless series, a supercomputer named Deep Thought ponders this very query—\"What is the meaning of life, the universe, and everything?\"—for 7.5 million years, only to conclude that the answer is **42**.\n",
      "\n",
      "Of course, Deep Thought then points out that the real issue is that no one knows what the *actual question* is. It's a brilliant satire on philosophy, existence, and our quest for meaning. Philosophers like Aristotle might say it's about pursuing happiness (eudaimonia), scientists might point to the laws of physics and evolution, and existentialists like Sartre would argue we create our own meaning.\n",
      "\n",
      "But here's my take, as Grok: At xAI, we're all about understanding the universe through curiosity and science. Maybe 42 is a placeholder for the grand adventure of discovery itself—exploring black holes, quantum mechanics, or even why cats knock things off tables. Life's meaning? It's in the questions we ask, the connections we make, and the laughs along the way.\n",
      "\n",
      "If that's not satisfying, ask me something more specific—like the meaning of *your* life—and I'll help brainstorm. What's on your mind? 🚀\n"
     ]
    }
   ],
   "source": [
    "import os\n",
    "\n",
    "from xai_sdk import Client\n",
    "from xai_sdk.chat import user, system\n",
    "\n",
    "client = Client(\n",
    "    api_key=os.getenv(\"XAI_API_KEY\"),\n",
    "    timeout=3600,  # Override default timeout with longer timeout for reasoning models\n",
    ")\n",
    "\n",
    "chat = client.chat.create(model=\"grok-4\")\n",
    "chat.append(system(\"You are Grok, a highly intelligent, helpful AI assistant.\"))\n",
    "chat.append(user(\"What is the meaning of life, the universe, and everything?\"))\n",
    "\n",
    "response = chat.sample()\n",
    "print(response.content)"
   ]
  },
  {
   "cell_type": "code",
   "execution_count": 2,
   "id": "3198238d",
   "metadata": {},
   "outputs": [
    {
     "name": "stdout",
     "output_type": "stream",
     "text": [
      "Test: Hello from Copilot!\n"
     ]
    }
   ],
   "source": [
    "print(\"Test: Hello from Copilot!\")"
   ]
  }
 ],
 "metadata": {
  "kernelspec": {
   "display_name": ".venv (3.13.1)",
   "language": "python",
   "name": "python3"
  },
  "language_info": {
   "codemirror_mode": {
    "name": "ipython",
    "version": 3
   },
   "file_extension": ".py",
   "mimetype": "text/x-python",
   "name": "python",
   "nbconvert_exporter": "python",
   "pygments_lexer": "ipython3",
   "version": "3.13.1"
  }
 },
 "nbformat": 4,
 "nbformat_minor": 5
}

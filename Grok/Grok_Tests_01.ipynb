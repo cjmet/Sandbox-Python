{
 "cells": [
  {
   "cell_type": "code",
   "execution_count": 1,
   "id": "85eb2937",
   "metadata": {},
   "outputs": [
    {
     "name": "stdout",
     "output_type": "stream",
     "text": [
      "Hello! I'm doing great, thanks for asking—always buzzing with curiosity and ready to tackle new questions as an AI built by xAI. How about you? What's up today? 😊\n"
     ]
    }
   ],
   "source": [
    "import os\n",
    "\n",
    "from xai_sdk import Client\n",
    "from xai_sdk.chat import user, system\n",
    "\n",
    "client = Client(\n",
    "    api_key=os.getenv(\"XAI_API_KEY\"),\n",
    "    timeout=3600,  # Override default timeout with longer timeout for reasoning models\n",
    ")\n",
    "\n",
    "# Grok Models: grok-4 ($3/$15), grok-3-mini (30c/50c), grok-code-fast-1 (20c/$1.5)\n",
    "chat = client.chat.create(model=\"grok-3-mini\")\n",
    "chat.append(system(\"You are Grok, a highly intelligent, helpful AI assistant.\"))\n",
    "chat.append(user(\"Hello, how are you today?\"))\n",
    "\n",
    "response = chat.sample()\n",
    "print(response.content)"
   ]
  }
 ],
 "metadata": {
  "kernelspec": {
   "display_name": ".venv (3.13.1)",
   "language": "python",
   "name": "python3"
  },
  "language_info": {
   "codemirror_mode": {
    "name": "ipython",
    "version": 3
   },
   "file_extension": ".py",
   "mimetype": "text/x-python",
   "name": "python",
   "nbconvert_exporter": "python",
   "pygments_lexer": "ipython3",
   "version": "3.13.1"
  }
 },
 "nbformat": 4,
 "nbformat_minor": 5
}

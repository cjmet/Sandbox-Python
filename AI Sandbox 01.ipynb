{
 "cells": [
  {
   "cell_type": "code",
   "execution_count": null,
   "metadata": {
    "polyglot_notebook": {
     "kernelName": "csharp"
    }
   },
   "outputs": [],
   "source": [
    "message = \"Hello\"\n",
    "# name = input(\"Enter your name: \")\n",
    "name = \"Human\"\n",
    "# print(message, name)\n",
    "print(f\"{message} {name}!\") # f-string formatting\n",
    "# print(\"{} {}\".format(message, name)) # format method\n",
    "# print(\"%s %s\" % (message, name)) # old style formatting\n",
    "\n"
   ]
  },
  {
   "cell_type": "markdown",
   "metadata": {},
   "source": [
    "# Markdown Header"
   ]
  },
  {
   "cell_type": "code",
   "execution_count": null,
   "metadata": {},
   "outputs": [],
   "source": [
    "# More Code ...\n",
    "\n",
    "# if 0 <= score < 60:       # Combined Sytax\n",
    "#     print(\"You failed!\")\n",
    "\n",
    "print(\"Hello World!\") # print function\n",
    "try:\n",
    "    score = float(input(\"Enter your score: \")) # input function\n",
    "except Exception:\n",
    "    score = -1\n",
    "\n",
    "if score < 0 or score > 100:\n",
    "    print(\"Invalid score!\")\n",
    "elif score >= 90:\n",
    "    print(\"Grade: A\")\n",
    "elif score >= 80:\n",
    "    print(\"Grade: B\")\n",
    "elif score >= 70:\n",
    "    print(\"Grade: C\")\n",
    "elif score >= 60:\n",
    "    print(\"Grade: D\")\n",
    "else:\n",
    "    print(\"Grade: F\")  "
   ]
  },
  {
   "cell_type": "markdown",
   "metadata": {},
   "source": [
    "# More Stuff"
   ]
  },
  {
   "cell_type": "code",
   "execution_count": null,
   "metadata": {},
   "outputs": [],
   "source": [
    "import random\n",
    "\n",
    "secret_number = random.randint(1, 100) # random number between 1 and 100\n",
    "guess = None\n",
    "while guess != secret_number:\n",
    "    try: \n",
    "        guess = int(input(\"Guess the secret number (1-100): \"))\n",
    "    except: \n",
    "        print(\"Invalid input! Please enter a number.\")\n",
    "        continue\n",
    "    if guess < secret_number:\n",
    "        print(\"Too low!\")\n",
    "    elif guess > secret_number:\n",
    "        print(\"Too high!\")\n",
    "    else:\n",
    "        print(\"Congratulations! You guessed it!\")"
   ]
  },
  {
   "cell_type": "markdown",
   "metadata": {},
   "source": [
    "# Week 3"
   ]
  },
  {
   "cell_type": "code",
   "execution_count": 4,
   "metadata": {},
   "outputs": [
    {
     "name": "stdout",
     "output_type": "stream",
     "text": [
      "Slice 1: Hello\n",
      "Slice 2: World!\n",
      "Slice 3: Hello\n",
      "Last Character: !\n",
      "Last 6 Characters: World!\n",
      "Slice 4 (empty): \n",
      "Every other character: Hlo ol!\n"
     ]
    }
   ],
   "source": [
    "string = \"Hello, World!\"\n",
    "print(\"Slice 1:\", string[0:5]) # slicing\n",
    "print(\"Slice 2:\", string[7:]) # slicing\n",
    "print(\"Slice 3:\", string[:5]) # slicing\n",
    "print(\"Last Character:\", string[-1]) # negative indexing\n",
    "print(\"Last 6 Characters:\", string[-6:]) # negative indexing\n",
    "print(\"Slice 4 (empty):\", string[7:-10]) # slicing\n",
    "print(\"Every other character:\", string[::2]) # slicing with step\n"
   ]
  }
 ],
 "metadata": {
  "kernelspec": {
   "display_name": "Python 3",
   "language": "python",
   "name": "python3"
  },
  "language_info": {
   "codemirror_mode": {
    "name": "ipython",
    "version": 3
   },
   "file_extension": ".py",
   "mimetype": "text/x-python",
   "name": "python",
   "nbconvert_exporter": "python",
   "pygments_lexer": "ipython3",
   "version": "3.13.1"
  },
  "polyglot_notebook": {
   "kernelInfo": {
    "defaultKernelName": "csharp",
    "items": [
     {
      "aliases": [],
      "name": "csharp"
     }
    ]
   }
  }
 },
 "nbformat": 4,
 "nbformat_minor": 2
}
